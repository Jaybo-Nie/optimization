{
 "cells": [
  {
   "cell_type": "markdown",
   "metadata": {
    "id": "FdJE2GjqE5n1"
   },
   "source": [
    "# Pyomo.DAE Example: Race Car\n",
    "\n",
    "Adapted from [](./PyomoDAE_example.ipynb) and https://github.com/Pyomo/pyomo/blob/master/examples/dae/car_example.py"
   ]
  },
  {
   "cell_type": "markdown",
   "metadata": {},
   "source": [
    "## Introduction and Learning Objectives\n",
    "\n",
    "This notebook:\n",
    "* Introduces syntax for Pyomo.DAE\n",
    "* Shows time-scaling modeling trick\n",
    "* Pratice using [units](https://pyomo.readthedocs.io/en/stable/advanced_topics/units_container.html) feature in Pyomo"
   ]
  },
  {
   "cell_type": "markdown",
   "metadata": {},
   "source": [
    "## Install Packages and Load Modules"
   ]
  },
  {
   "cell_type": "code",
   "execution_count": 13,
   "metadata": {
    "colab": {
     "base_uri": "https://localhost:8080/"
    },
    "id": "qN1vjhfyE5n3",
    "outputId": "f2b2eccd-7a2c-45cb-ed04-4cb77648461c"
   },
   "outputs": [],
   "source": [
    "# Imports\n",
    "import sys\n",
    "if \"google.colab\" in sys.modules:\n",
    "    !wget \"https://raw.githubusercontent.com/ndcbe/optimization/main/notebooks/helper.py\"\n",
    "    import helper\n",
    "    helper.easy_install()\n",
    "else:\n",
    "    sys.path.insert(0, '../')\n",
    "    import helper\n",
    "helper.set_plotting_style()"
   ]
  },
  {
   "cell_type": "code",
   "execution_count": 14,
   "metadata": {},
   "outputs": [],
   "source": [
    "import pyomo.environ as pyo\n",
    "import matplotlib.pyplot as plt\n",
    "import pyomo.dae as dae\n",
    "from pyomo.environ import units"
   ]
  },
  {
   "cell_type": "markdown",
   "metadata": {
    "id": "YSpVde_FE5n4"
   },
   "source": [
    "## Problem Statement and Optimal Control Formulation\n",
    "\n",
    "You are a race car driver with a simple goal. Drive distance $L$ in the minimal amount of time **but** come to a complete stop at the finish line."
   ]
  },
  {
   "cell_type": "markdown",
   "metadata": {
    "id": "Z1nDdKb42bCm"
   },
   "source": [
    "Mathematically, you want to solve the following optimal control problem:\n",
    "\n",
    "$$\\begin{align*}\n",
    "\\min_{u} \\quad & t_f \\\\\n",
    "\\mathrm{s.t.} \\quad & \\frac{dx}{dt} = v \\\\\n",
    "& \\frac{dv}{dt} = u - R v^2 \\\\\n",
    "& x(t=0) = 0, ~~ x(t=t_f) = L \\\\\n",
    "& v(t=0) = 0, ~~ v(t=t_f) = 0 \\\\\n",
    "& -3 \\leq u \\leq 1\n",
    "\\end{align*}$$\n",
    "\n",
    "where $a$ is the acceleration/braking (your control variable) and $R$ is the drag coefficient (parameter)."
   ]
  },
  {
   "cell_type": "markdown",
   "metadata": {
    "id": "4vpbflEO2eCP"
   },
   "source": [
    "### Scale Time\n",
    "\n",
    "Let $t = \\tau \\cdot t_f$ where $\\tau \\in [0,1]$. Thus $dt = t_f d\\tau$. The optimal control problem becomes:\n",
    "\n",
    "$$\\begin{align*}\n",
    "\\min_{u} \\quad & t_f \\\\\n",
    "\\mathrm{s.t.} \\quad & \\frac{dx}{d\\tau} = t_f v \\\\\n",
    "& \\frac{dv}{d\\tau} = t_f (u - R v^2) \\\\\n",
    "& x(\\tau = 0) = 0, ~~ x(\\tau = 1) = L \\\\\n",
    "& v(\\tau = 0) = 0, ~~ v(\\tau = 1) = 0 \\\\\n",
    "& -3 \\leq u \\leq 1\n",
    "\\end{align*}$$"
   ]
  },
  {
   "cell_type": "markdown",
   "metadata": {
    "id": "9vkFDIXVE5n7"
   },
   "source": [
    "### Declaring our Model with Pyomo.DAE\n",
    "\n",
    "We can use `Pyomo.dae` to automatically formulate the collocation equations (i.e., add constraints that numerically integrate the ODE model)."
   ]
  },
  {
   "cell_type": "code",
   "execution_count": 15,
   "metadata": {
    "id": "66_QXlm1E5n7"
   },
   "outputs": [],
   "source": [
    "# Define the  model\n",
    "m = pyo.ConcreteModel()\n",
    "\n",
    "# Deine the model parameters\n",
    "m.R = pyo.Param(initialize=0.001, units=1/units.m)  # Friction factor\n",
    "m.L = pyo.Param(initialize=100.0, units=units.m)    # Final position\n",
    "\n",
    "# Define time\n",
    "m.tau = dae.ContinuousSet(bounds=(0,1))             # Dimensionless time set\n",
    "m.tf = pyo.Var(initialize=1, units=units.s)         # Final time\n",
    "\n",
    "# Define remaining algebraic variables\n",
    "m.x = pyo.Var(m.tau, bounds=(0,m.L+50*units.m), units=units.m)                              # Position\n",
    "m.v = pyo.Var(m.tau, bounds=(0,None), units=units.m/units.s)                        # Velocity\n",
    "m.u = pyo.Var(m.tau, bounds=(-3.0,1.0),initialize=0, units=units.m/units.s/units.s) # Acceleration\n",
    "\n",
    "# Define derivative variables\n",
    "m.dx = dae.DerivativeVar(m.x)\n",
    "m.dv = dae.DerivativeVar(m.v)\n",
    "\n",
    "# Declare the objective (minimize final time)\n",
    "m.obj = pyo.Objective(expr=m.tf)\n",
    "\n",
    "# Define the constraints\n",
    "# position\n",
    "def _ode1(m,i):\n",
    "    if i == 0 :\n",
    "        return pyo.Constraint.Skip\n",
    "    return m.dx[i] == m.tf * m.v[i]\n",
    "m.ode1 = pyo.Constraint(m.tau, rule=_ode1)\n",
    "\n",
    "# velocity\n",
    "def _ode2(m,i):\n",
    "    if i == 0 :\n",
    "        return pyo.Constraint.Skip\n",
    "    return m.dv[i] == m.tf*(m.u[i] - m.R*m.v[i]**2)\n",
    "m.ode2 = pyo.Constraint(m.tau, rule=_ode2)\n",
    "\n",
    "# Define the inital/boundary conditions\n",
    "def _init(m):\n",
    "    yield m.x[0] == 0\n",
    "    yield m.x[1] == m.L\n",
    "    yield m.v[0] == 0\n",
    "    yield m.v[1] == 0\n",
    "    \n",
    "m.initcon = pyo.ConstraintList(rule=_init)"
   ]
  },
  {
   "cell_type": "markdown",
   "metadata": {},
   "source": [
    "Now let's inspect the model."
   ]
  },
  {
   "cell_type": "code",
   "execution_count": 16,
   "metadata": {},
   "outputs": [
    {
     "name": "stdout",
     "output_type": "stream",
     "text": [
      "2 Param Declarations\n",
      "    L : Size=1, Index=None, Domain=Any, Default=None, Mutable=True, Units=m\n",
      "        Key  : Value\n",
      "        None : 100.0\n",
      "    R : Size=1, Index=None, Domain=Any, Default=None, Mutable=True, Units=1/m\n",
      "        Key  : Value\n",
      "        None : 0.001\n",
      "\n",
      "4 Var Declarations\n",
      "    tf : Size=1, Index=None, Units=s\n",
      "        Key  : Lower : Value : Upper : Fixed : Stale : Domain\n",
      "        None :  None :     1 :  None : False : False :  Reals\n",
      "    u : Size=2, Index=tau, Units=m/s**2\n",
      "        Key : Lower : Value : Upper : Fixed : Stale : Domain\n",
      "          0 :  -3.0 :     0 :   1.0 : False : False :  Reals\n",
      "          1 :  -3.0 :     0 :   1.0 : False : False :  Reals\n",
      "    v : Size=2, Index=tau, Units=m/s\n",
      "        Key : Lower : Value : Upper : Fixed : Stale : Domain\n",
      "          0 :     0 :  None :  None : False :  True :  Reals\n",
      "          1 :     0 :  None :  None : False :  True :  Reals\n",
      "    x : Size=2, Index=tau, Units=m\n",
      "        Key : Lower : Value : Upper : Fixed : Stale : Domain\n",
      "          0 :     0 :  None : 150.0 : False :  True :  Reals\n",
      "          1 :     0 :  None : 150.0 : False :  True :  Reals\n",
      "\n",
      "1 Objective Declarations\n",
      "    obj : Size=1, Index=None, Active=True\n",
      "        Key  : Active : Sense    : Expression\n",
      "        None :   True : minimize :         tf\n",
      "\n",
      "3 Constraint Declarations\n",
      "    initcon : Size=4, Index={1, 2, 3, 4}, Active=True\n",
      "        Key : Lower : Body : Upper : Active\n",
      "          1 :   0.0 : x[0] :   0.0 :   True\n",
      "          2 :     L : x[1] :     L :   True\n",
      "          3 :   0.0 : v[0] :   0.0 :   True\n",
      "          4 :   0.0 : v[1] :   0.0 :   True\n",
      "    ode1 : Size=1, Index=tau, Active=True\n",
      "        Key : Lower : Body            : Upper : Active\n",
      "          1 :   0.0 : dx[1] - tf*v[1] :   0.0 :   True\n",
      "    ode2 : Size=1, Index=tau, Active=True\n",
      "        Key : Lower : Body                          : Upper : Active\n",
      "          1 :   0.0 : dv[1] - tf*(u[1] - R*v[1]**2) :   0.0 :   True\n",
      "\n",
      "1 ContinuousSet Declarations\n",
      "    tau : Size=1, Index=None, Ordered=Sorted\n",
      "        Key  : Dimen : Domain : Size : Members\n",
      "        None :     1 : [0..1] :    2 : {0, 1}\n",
      "\n",
      "2 DerivativeVar Declarations\n",
      "    dv : Size=2, Index=tau\n",
      "        Key : Lower : Value : Upper : Fixed : Stale : Domain\n",
      "          0 :  None :  None :  None : False :  True :  Reals\n",
      "          1 :  None :  None :  None : False :  True :  Reals\n",
      "    dx : Size=2, Index=tau\n",
      "        Key : Lower : Value : Upper : Fixed : Stale : Domain\n",
      "          0 :  None :  None :  None : False :  True :  Reals\n",
      "          1 :  None :  None :  None : False :  True :  Reals\n",
      "\n",
      "13 Declarations: R L tau tf x v u dx dv obj ode1 ode2 initcon\n"
     ]
    }
   ],
   "source": [
    "m.pprint()"
   ]
  },
  {
   "cell_type": "markdown",
   "metadata": {
    "id": "ce086MoFE5n8"
   },
   "source": [
    "### Discretize/Transcribe and Solve"
   ]
  },
  {
   "cell_type": "code",
   "execution_count": 17,
   "metadata": {
    "colab": {
     "base_uri": "https://localhost:8080/"
    },
    "id": "7yuOTED-E5n8",
    "outputId": "b2b7a479-3dee-4c60-eebf-c5e9850eabdf"
   },
   "outputs": [
    {
     "name": "stdout",
     "output_type": "stream",
     "text": [
      "Ipopt 3.13.2: \n",
      "\n",
      "******************************************************************************\n",
      "This program contains Ipopt, a library for large-scale nonlinear optimization.\n",
      " Ipopt is released as open source code under the Eclipse Public License (EPL).\n",
      "         For more information visit http://projects.coin-or.org/Ipopt\n",
      "\n",
      "This version of Ipopt was compiled from source code available at\n",
      "    https://github.com/IDAES/Ipopt as part of the Institute for the Design of\n",
      "    Advanced Energy Systems Process Systems Engineering Framework (IDAES PSE\n",
      "    Framework) Copyright (c) 2018-2019. See https://github.com/IDAES/idaes-pse.\n",
      "\n",
      "This version of Ipopt was compiled using HSL, a collection of Fortran codes\n",
      "    for large-scale scientific computation.  All technical papers, sales and\n",
      "    publicity material resulting from use of the HSL codes within IPOPT must\n",
      "    contain the following acknowledgement:\n",
      "        HSL, a collection of Fortran codes for large-scale scientific\n",
      "        computation. See http://www.hsl.rl.ac.uk.\n",
      "******************************************************************************\n",
      "\n",
      "This is Ipopt version 3.13.2, running with linear solver ma27.\n",
      "\n",
      "Number of nonzeros in equality constraint Jacobian...:      829\n",
      "Number of nonzeros in inequality constraint Jacobian.:        0\n",
      "Number of nonzeros in Lagrangian Hessian.............:      135\n",
      "\n",
      "Total number of variables............................:      228\n",
      "                     variables with only lower bounds:       46\n",
      "                variables with lower and upper bounds:       91\n",
      "                     variables with only upper bounds:        0\n",
      "Total number of equality constraints.................:      214\n",
      "Total number of inequality constraints...............:        0\n",
      "        inequality constraints with only lower bounds:        0\n",
      "   inequality constraints with lower and upper bounds:        0\n",
      "        inequality constraints with only upper bounds:        0\n",
      "\n",
      "iter    objective    inf_pr   inf_du lg(mu)  ||d||  lg(rg) alpha_du alpha_pr  ls\n",
      "   0  1.0000000e+00 1.00e+02 1.30e+00  -1.0 0.00e+00    -  0.00e+00 0.00e+00   0\n",
      "   1r 1.0000000e+00 1.00e+02 9.99e+02   2.0 0.00e+00    -  0.00e+00 3.26e-07R  8\n",
      "   2r 1.2449252e+00 9.95e+01 9.93e+02   2.0 1.26e+02    -  5.63e-03 6.22e-03f  1\n",
      "   3r 2.6155110e+00 9.91e+01 1.22e+02   0.6 1.56e+00    -  7.62e-01 8.77e-01f  1\n",
      "   4r 5.7407161e+00 9.81e+01 1.16e+02  -0.1 4.77e+01   0.0 2.43e-02 6.55e-02f  1\n",
      "   5r 6.9131266e+00 9.76e+01 1.19e+02  -0.1 4.77e+01    -  7.69e-02 2.46e-02f  1\n",
      "   6r 1.8926907e+01 9.25e+01 4.60e+02  -0.1 8.87e+01    -  2.39e-02 1.35e-01f  1\n",
      "   7r 1.9252497e+01 8.70e+01 3.95e+02  -0.1 1.08e+01    -  2.88e-02 8.03e-01f  1\n",
      "   8  2.0135727e+01 8.62e+01 6.54e+00  -1.0 2.64e+02    -  1.14e-01 9.09e-03h  5\n",
      "   9  2.0857378e+01 8.51e+01 1.12e+01  -1.0 3.10e+02    -  1.01e-01 1.20e-02h  6\n",
      "iter    objective    inf_pr   inf_du lg(mu)  ||d||  lg(rg) alpha_du alpha_pr  ls\n",
      "  10  2.1432701e+01 8.41e+01 1.85e+01  -1.0 3.11e+02    -  1.50e-01 1.20e-02h  6\n",
      "  11  2.2030985e+01 8.29e+01 3.02e+01  -1.0 2.93e+02    -  2.34e-01 1.41e-02h  6\n",
      "  12  2.2781040e+01 8.14e+01 4.72e+01  -1.0 2.74e+02    -  3.37e-01 1.87e-02h  6\n",
      "  13  1.4199237e+01 1.24e+02 3.11e+01  -1.0 2.62e+02    -  5.20e-01 4.38e-01H  1\n",
      "  14  2.1365014e+01 8.49e+01 1.03e+01  -1.0 9.32e+01    -  5.48e-02 2.34e-01h  2\n",
      "  15  2.2706495e+01 7.92e+01 8.10e+01  -1.0 1.15e+02    -  6.41e-01 6.36e-02h  4\n",
      "  16  2.3519561e+01 7.41e+01 1.19e+02  -1.0 8.53e+01    -  3.68e-01 6.19e-02h  5\n",
      "  17  2.3548373e+01 7.38e+01 2.26e+02  -1.0 6.83e+01    -  7.29e-01 3.34e-03h  9\n",
      "  18  2.0378731e+01 6.54e+01 1.94e+02  -1.0 2.92e+02    -  1.04e-01 1.28e-01h  1\n",
      "  19  1.9424173e+01 4.16e+01 7.83e+01  -1.0 1.12e+02    -  1.16e-01 3.70e-01h  1\n",
      "iter    objective    inf_pr   inf_du lg(mu)  ||d||  lg(rg) alpha_du alpha_pr  ls\n",
      "  20  1.7710108e+01 1.68e+01 3.14e+01  -1.0 9.79e+01    -  3.38e-01 5.75e-01f  1\n",
      "  21  1.7993344e+01 8.23e+00 2.96e+02  -1.0 2.83e+01    -  1.00e+00 5.14e-01h  1\n",
      "  22  1.9147366e+01 4.90e-01 1.61e+01  -1.0 9.69e+00    -  1.00e+00 9.90e-01h  1\n",
      "  23  1.9205734e+01 1.67e-02 1.26e+03  -1.0 4.50e+00    -  1.00e+00 9.90e-01h  1\n",
      "  24  1.9211008e+01 4.04e-05 1.02e-06  -1.0 1.18e-01    -  1.00e+00 1.00e+00h  1\n",
      "  25  1.7317872e+01 3.20e+00 1.46e+06  -5.7 1.68e+01    -  7.50e-01 1.00e+00f  1\n",
      "  26  1.6683635e+01 7.56e-01 1.79e+05  -5.7 1.22e+01    -  8.77e-01 9.88e-01h  1\n",
      "  27  1.6527179e+01 7.58e-02 3.73e+04  -5.7 7.89e+00    -  7.92e-01 9.92e-01h  1\n",
      "  28  1.6520375e+01 6.03e-05 5.38e-07  -5.7 8.83e-02    -  1.00e+00 1.00e+00h  1\n",
      "  29  1.6520269e+01 6.27e-09 8.71e-11  -5.7 9.10e-04    -  1.00e+00 1.00e+00h  1\n",
      "iter    objective    inf_pr   inf_du lg(mu)  ||d||  lg(rg) alpha_du alpha_pr  ls\n",
      "  30  1.6520192e+01 9.76e-09 1.62e-10  -8.6 1.19e-03    -  1.00e+00 1.00e+00h  1\n",
      "\n",
      "Number of Iterations....: 30\n",
      "\n",
      "                                   (scaled)                 (unscaled)\n",
      "Objective...............:   1.6520191521080950e+01    1.6520191521080950e+01\n",
      "Dual infeasibility......:   1.6219122342334269e-10    1.6219122342334269e-10\n",
      "Constraint violation....:   9.7603276572044706e-09    9.7603276572044706e-09\n",
      "Complementarity.........:   2.5852522114913472e-09    2.5852522114913472e-09\n",
      "Overall NLP error.......:   9.7603276572044706e-09    9.7603276572044706e-09\n",
      "\n",
      "\n",
      "Number of objective function evaluations             = 96\n",
      "Number of objective gradient evaluations             = 26\n",
      "Number of equality constraint evaluations            = 96\n",
      "Number of inequality constraint evaluations          = 0\n",
      "Number of equality constraint Jacobian evaluations   = 32\n",
      "Number of inequality constraint Jacobian evaluations = 0\n",
      "Number of Lagrangian Hessian evaluations             = 30\n",
      "Total CPU secs in IPOPT (w/o function evaluations)   =      0.011\n",
      "Total CPU secs in NLP function evaluations           =      0.001\n",
      "\n",
      "EXIT: Optimal Solution Found.\n",
      "final time =  16.52 seconds\n"
     ]
    }
   ],
   "source": [
    "#discretizer = TransformationFactory('dae.finite_difference')\n",
    "#discretizer.apply_to(m,nfe=15,scheme='BACKWARD')\n",
    "\n",
    "# Declare the discretizer\n",
    "discretizer = pyo.TransformationFactory('dae.collocation')\n",
    "discretizer.apply_to(m,nfe=15,scheme='LAGRANGE-RADAU',ncp=3)\n",
    "#discretizer.apply_to(m,nfe=15,scheme='LAGRANGE-LEGENDRE',ncp=3)\n",
    "\n",
    "# force piecewise constant controls (acceleration) over each finite element\n",
    "m = discretizer.reduce_collocation_points(m,var=m.u,ncp=1,contset=m.tau)\n",
    "\n",
    "# Solve\n",
    "solver = pyo.SolverFactory('ipopt')\n",
    "solver.solve(m,tee=True)\n",
    "\n",
    "print(\"final time = %6.2f seconds\" %(pyo.value(m.tf)))"
   ]
  },
  {
   "cell_type": "markdown",
   "metadata": {
    "id": "mnwvGIKiE5n8"
   },
   "source": [
    "### Plot Results"
   ]
  },
  {
   "cell_type": "code",
   "execution_count": 18,
   "metadata": {
    "colab": {
     "base_uri": "https://localhost:8080/",
     "height": 419
    },
    "id": "pgrJqGrkE5n9",
    "outputId": "b381ec63-50a0-4f99-ba05-6a2775fa7373"
   },
   "outputs": [
    {
     "data": {
      "image/png": "[encoded data removed]",
      "text/plain": [
       "<Figure size 1200x400 with 3 Axes>"
      ]
     },
     "metadata": {},
     "output_type": "display_data"
    }
   ],
   "source": [
    "# Define empty lists\n",
    "x = []    # position, units of length\n",
    "v = []    # velocity, units of length per time\n",
    "u = []    # acceleration, units of length per time squared\n",
    "time=[]   # time\n",
    "tf = pyo.value(m.tf)\n",
    "\n",
    "# Loop over time and append the solution values for each variable to their respective lists\n",
    "for i in m.tau:\n",
    "    time.append(i*tf)\n",
    "    x.append(pyo.value(m.x[i]))\n",
    "    v.append(pyo.value(m.v[i]))\n",
    "    u.append(pyo.value(m.u[i]))\n",
    "\n",
    "# Make a figure\n",
    "plt.figure(figsize=(12,4))\n",
    "\n",
    "# Format subplot 1 (position)    \n",
    "plt.subplot(131)\n",
    "plt.plot(time,x,linewidth=3,label='x')\n",
    "plt.title('location (m)',fontsize=16, fontweight='bold')\n",
    "plt.xlabel('time (s)',fontsize=16, fontweight='bold')\n",
    "plt.tick_params(direction=\"in\",labelsize=15)\n",
    "\n",
    "# Format subplot 2 (velocity)\n",
    "plt.subplot(132)\n",
    "plt.plot(time,v,linewidth=3,label='v')\n",
    "plt.xlabel('time (s)',fontsize=16, fontweight='bold')\n",
    "plt.title('velocity (m/s)',fontsize=16, fontweight='bold')\n",
    "plt.tick_params(direction=\"in\",labelsize=15)\n",
    "\n",
    "# Format subplot 3 (acceleration)\n",
    "plt.subplot(133)\n",
    "plt.plot(time,u,linewidth=3,label='a')\n",
    "plt.xlabel('time (s)',fontsize=16, fontweight='bold')\n",
    "plt.title('acceleration (m/s2)',fontsize=16, fontweight='bold')\n",
    "plt.tick_params(direction=\"in\",labelsize=15)\n",
    "\n",
    "plt.show()"
   ]
  },
  {
   "cell_type": "markdown",
   "metadata": {
    "id": "CqOWdD6JNjYO"
   },
   "source": [
    "**Discussion Questions**\n",
    "\n",
    "Do the results make sense?\n",
    "\n",
    "What do you know about the relationships between position, velocity, and acceleration? Do you see this relationship in the plots?"
   ]
  },
  {
   "cell_type": "markdown",
   "metadata": {},
   "source": [
    "## Another Version\n",
    "\n",
    "Antoher modeling option to to define an extra differential equation to compute time.\n",
    "\n",
    "$$\\begin{align*}\n",
    "\\min_{u} \\quad & t_f \\\\\n",
    "\\mathrm{s.t.} \\quad & \\frac{dx}{d\\tau} = t_f v \\\\\n",
    "& \\frac{dv}{d\\tau} = t_f (u - R v^2) \\\\\n",
    "& \\frac{dt}{d\\tau} = t_f \\\\\n",
    "& x(\\tau = 0) = 0, ~~ x(\\tau = 1) = L \\\\\n",
    "& v(\\tau = 0) = 0, ~~ v(\\tau = 1) = 0 \\\\\n",
    "& t(\\tau = 0) = 0 \\\\\n",
    "& -3 \\leq u \\leq 1\n",
    "\\end{align*}$$"
   ]
  },
  {
   "cell_type": "code",
   "execution_count": 19,
   "metadata": {
    "id": "I7s1J6AYOPOW"
   },
   "outputs": [],
   "source": [
    "# Define the  model\n",
    "m = pyo.ConcreteModel()\n",
    "\n",
    "# Define the  model\n",
    "m = pyo.ConcreteModel()\n",
    "\n",
    "# Deine the model parameters\n",
    "m.R = pyo.Param(initialize=0.001, units=1/units.m) # Friction factor\n",
    "m.L = pyo.Param(initialize=100.0, units=units.m) # Final position\n",
    "\n",
    "# Define time\n",
    "m.tau = dae.ContinuousSet(bounds=(0,1))                 # Dimensionless time set\n",
    "m.time = pyo.Var(m.tau, bounds=(0,None), units=units.s) # Time\n",
    "m.tf = pyo.Var(initialize=1, units=units.s)             # Final time\n",
    "\n",
    "# Define remaining algebraic variables\n",
    "m.x = pyo.Var(m.tau, bounds=(0,m.L + 50*units.m), units=units.m)                    # Position\n",
    "m.v = pyo.Var(m.tau, bounds=(0,None), units=units.m/units.s)                        # Velocity\n",
    "m.u = pyo.Var(m.tau, bounds=(-3.0,1.0),initialize=0, units=units.m/units.s/units.s) # Acceleration\n",
    "\n",
    "# Define derivative variables\n",
    "m.dtime = dae.DerivativeVar(m.time)\n",
    "m.dx = dae.DerivativeVar(m.x)\n",
    "m.dv = dae.DerivativeVar(m.v)\n",
    "\n",
    "# Declare the objective (minimize final time)\n",
    "m.obj = pyo.Objective(expr=m.tf)\n",
    "\n",
    "# Define the constraints\n",
    "# position\n",
    "def _ode1(m,i):\n",
    "    if i == 0 :\n",
    "        return pyo.Constraint.Skip\n",
    "    return m.dx[i] == m.tf * m.v[i]\n",
    "m.ode1 = pyo.Constraint(m.tau, rule=_ode1)\n",
    "\n",
    "# velocity\n",
    "def _ode2(m,i):\n",
    "    if i == 0 :\n",
    "        return pyo.Constraint.Skip\n",
    "    return m.dv[i] == m.tf*(m.u[i] - m.R*m.v[i]**2)\n",
    "m.ode2 = pyo.Constraint(m.tau, rule=_ode2)\n",
    "\n",
    "# time\n",
    "def _ode3(m,i):\n",
    "    if i == 0:\n",
    "        return pyo.Constraint.Skip\n",
    "    return m.dtime[i] == m.tf\n",
    "m.ode3 = pyo.Constraint(m.tau, rule=_ode3)\n",
    "\n",
    "# Define the inital/boundary conditions\n",
    "def _init(m):\n",
    "    yield m.x[0] == 0\n",
    "    yield m.x[1] == m.L\n",
    "    yield m.v[0] == 0\n",
    "    yield m.v[1] == 0\n",
    "    yield m.time[0] == 0\n",
    "    \n",
    "m.initcon = pyo.ConstraintList(rule=_init)"
   ]
  },
  {
   "cell_type": "code",
   "execution_count": 20,
   "metadata": {},
   "outputs": [
    {
     "name": "stdout",
     "output_type": "stream",
     "text": [
      "Ipopt 3.13.2: \n",
      "\n",
      "******************************************************************************\n",
      "This program contains Ipopt, a library for large-scale nonlinear optimization.\n",
      " Ipopt is released as open source code under the Eclipse Public License (EPL).\n",
      "         For more information visit http://projects.coin-or.org/Ipopt\n",
      "\n",
      "This version of Ipopt was compiled from source code available at\n",
      "    https://github.com/IDAES/Ipopt as part of the Institute for the Design of\n",
      "    Advanced Energy Systems Process Systems Engineering Framework (IDAES PSE\n",
      "    Framework) Copyright (c) 2018-2019. See https://github.com/IDAES/idaes-pse.\n",
      "\n",
      "This version of Ipopt was compiled using HSL, a collection of Fortran codes\n",
      "    for large-scale scientific computation.  All technical papers, sales and\n",
      "    publicity material resulting from use of the HSL codes within IPOPT must\n",
      "    contain the following acknowledgement:\n",
      "        HSL, a collection of Fortran codes for large-scale scientific\n",
      "        computation. See http://www.hsl.rl.ac.uk.\n",
      "******************************************************************************\n",
      "\n",
      "This is Ipopt version 3.13.2, running with linear solver ma27.\n",
      "\n",
      "Number of nonzeros in equality constraint Jacobian...:     1145\n",
      "Number of nonzeros in inequality constraint Jacobian.:        0\n",
      "Number of nonzeros in Lagrangian Hessian.............:      135\n",
      "\n",
      "Total number of variables............................:      319\n",
      "                     variables with only lower bounds:       92\n",
      "                variables with lower and upper bounds:       91\n",
      "                     variables with only upper bounds:        0\n",
      "Total number of equality constraints.................:      305\n",
      "Total number of inequality constraints...............:        0\n",
      "        inequality constraints with only lower bounds:        0\n",
      "   inequality constraints with lower and upper bounds:        0\n",
      "        inequality constraints with only upper bounds:        0\n",
      "\n",
      "iter    objective    inf_pr   inf_du lg(mu)  ||d||  lg(rg) alpha_du alpha_pr  ls\n",
      "   0  1.0000000e+00 1.00e+02 3.48e-01  -1.0 0.00e+00    -  0.00e+00 0.00e+00   0\n",
      "   1  9.9965381e-01 9.99e+01 1.09e+02  -1.0 1.00e+03    -  7.69e-05 1.26e-03f  1\n",
      "   2  1.0672606e+00 9.98e+01 1.21e+02  -1.0 8.13e+02    -  1.78e-04 1.13e-03f  1\n",
      "   3  1.6627950e+00 9.94e+01 3.76e+01  -1.0 6.32e+02    -  4.66e-04 3.48e-03f  1\n",
      "   4  2.1580706e+00 9.89e+01 2.13e+01  -1.0 3.70e+02    -  5.94e-03 4.73e-03f  1\n",
      "   5  3.3740442e+00 9.75e+01 2.13e+01  -1.0 2.83e+02    -  6.48e-03 1.47e-02f  1\n",
      "   6  3.4568065e+00 9.75e+01 2.12e+01  -1.0 3.65e+03  -2.0 9.05e-05 2.25e-04f  4\n",
      "   7  3.5166768e+00 9.75e+01 2.12e+01  -1.0 1.45e+05  -1.6 3.05e-07 2.70e-06f  4\n",
      "   8  3.6179009e+00 9.74e+01 2.11e+01  -1.0 4.56e+02  -1.1 6.90e-03 7.57e-04h  4\n",
      "   9  3.7394769e+00 9.74e+01 2.10e+01  -1.0 2.14e+03  -1.6 4.01e-04 2.70e-04h  3\n",
      "iter    objective    inf_pr   inf_du lg(mu)  ||d||  lg(rg) alpha_du alpha_pr  ls\n",
      "  10  3.9133700e+00 9.72e+01 2.10e+01  -1.0 3.70e+02  -1.2 1.66e-02 1.41e-03h  3\n",
      "  11  4.4185485e+00 9.71e+01 1.98e+01  -1.0 1.58e+03    -  2.59e-03 1.55e-03h  1\n",
      "  12  4.5952693e+00 9.69e+01 1.98e+01  -1.0 4.16e+02    -  5.05e-03 1.57e-03h  1\n",
      "  13  4.9840028e+00 9.66e+01 1.97e+01  -1.0 4.67e+02    -  7.60e-03 3.38e-03h  1\n",
      "  14  5.3631837e+00 9.61e+01 1.98e+01  -1.0 2.80e+02    -  6.53e-03 5.27e-03h  1\n",
      "  15  5.8588385e+00 9.55e+01 1.96e+01  -1.0 3.63e+02    -  7.97e-03 5.72e-03h  2\n",
      "  16  6.2740527e+00 9.51e+01 1.96e+01  -1.0 4.21e+02    -  1.56e-02 4.53e-03h  1\n",
      "  17  6.6359047e+00 9.45e+01 2.20e+01  -1.0 2.85e+02    -  1.32e-02 6.28e-03h  1\n",
      "  18  7.1860006e+00 9.36e+01 2.75e+01  -1.0 3.17e+02    -  1.47e-02 9.08e-03h  4\n",
      "  19  7.8876904e+00 9.27e+01 2.76e+01  -1.0 4.06e+02    -  1.29e-02 9.78e-03h  2\n",
      "iter    objective    inf_pr   inf_du lg(mu)  ||d||  lg(rg) alpha_du alpha_pr  ls\n",
      "  20  8.3302999e+00 9.20e+01 2.73e+01  -1.0 3.73e+02    -  7.91e-03 7.33e-03h  2\n",
      "  21  8.7005071e+00 9.15e+01 3.38e+01  -1.0 3.73e+02    -  1.67e-03 5.55e-03h  1\n",
      "  22  8.8614541e+00 9.12e+01 3.54e+01  -1.0 3.10e+02    -  1.44e-02 3.62e-03h  1\n",
      "  23  9.3754873e+00 9.01e+01 3.94e+01  -1.0 3.09e+02    -  1.59e-02 1.18e-02h  1\n",
      "  24  1.0173832e+01 8.84e+01 3.85e+01  -1.0 3.05e+02    -  4.92e-02 1.97e-02h  3\n",
      "  25  1.1806583e+01 8.59e+01 5.17e+01  -1.0 3.68e+02  -1.7 4.14e-03 2.80e-02h  2\n",
      "  26  1.3077594e+01 8.20e+01 3.75e+01  -1.0 2.75e+02  -1.3 6.22e-02 4.47e-02h  3\n",
      "  27  1.3909957e+01 8.03e+01 2.75e+01  -1.0 3.28e+02  -1.7 6.11e-02 2.12e-02h  3\n",
      "  28  1.4861686e+01 7.65e+01 3.46e+01  -1.0 2.40e+02  -1.3 2.30e-02 4.78e-02f  3\n",
      "  29  1.5847144e+01 7.35e+01 3.03e+01  -1.0 2.70e+02  -1.8 9.50e-02 3.85e-02h  5\n",
      "iter    objective    inf_pr   inf_du lg(mu)  ||d||  lg(rg) alpha_du alpha_pr  ls\n",
      "  30  1.7199412e+01 7.22e+01 2.99e+01  -1.0 5.15e+02  -2.3 2.07e-02 1.84e-02h  1\n",
      "  31  1.7264467e+01 7.20e+01 4.19e+01  -1.0 2.86e+02    -  1.06e-01 2.56e-03h  1\n",
      "  32  3.3947489e+01 5.88e+00 1.98e+02  -1.0 2.70e+02    -  7.07e-02 9.22e-01H  1\n",
      "  33  3.3892282e+01 7.53e-02 7.75e+01  -1.0 1.50e+01  -1.8 5.55e-01 9.90e-01h  1\n",
      "  34  3.1099781e+01 3.25e+00 4.34e+02  -1.0 2.09e+02    -  1.62e-01 1.83e-01f  1\n",
      "  35  3.3257932e+01 1.99e+00 9.45e+03  -1.0 2.87e+01    -  5.56e-01 9.92e-01f  1\n",
      "  36  3.0676688e+01 3.10e+00 1.40e+06  -1.0 3.75e+01    -  2.66e-01 9.12e-01f  1\n",
      "  37  2.8971974e+01 1.94e+00 5.27e+06  -1.0 3.39e+01    -  2.61e-01 1.00e+00f  1\n",
      "  38  2.7979354e+01 1.41e+00 9.55e+05  -1.0 2.59e+01    -  7.48e-01 5.84e-01h  1\n",
      "  39  2.5272864e+01 5.18e+00 1.26e+06  -1.0 1.17e+02    -  1.27e-01 5.83e-01f  1\n",
      "iter    objective    inf_pr   inf_du lg(mu)  ||d||  lg(rg) alpha_du alpha_pr  ls\n",
      "  40  2.5693827e+01 3.44e-01 1.27e+06  -1.0 2.11e+01    -  2.36e-01 1.00e+00f  1\n",
      "  41  2.2982818e+01 4.74e+00 7.78e+05  -1.0 9.26e+01    -  3.86e-01 6.26e-01f  1\n",
      "  42  2.0165927e+01 6.73e+00 5.59e+05  -1.0 6.11e+01    -  2.81e-01 8.52e-01f  1\n",
      "  43  1.8548643e+01 5.04e+00 3.42e+05  -1.0 6.52e+01    -  3.89e-01 5.46e-01f  1\n",
      "  44  1.9691536e+01 1.01e+00 4.17e-02  -1.0 1.57e+01    -  1.00e+00 1.00e+00f  1\n",
      "  45  1.9758985e+01 5.69e-02 3.33e-03  -1.0 1.62e+01    -  1.00e+00 1.00e+00h  1\n",
      "  46  1.7116764e+01 5.67e+00 2.62e+06  -2.5 2.17e+01    -  7.30e-01 1.00e+00f  1\n",
      "  47  1.6751093e+01 3.80e-01 9.60e+04  -2.5 1.33e+01    -  9.63e-01 1.00e+00h  1\n",
      "  48  1.6637572e+01 4.98e-02 8.50e-05  -2.5 7.31e+00    -  1.00e+00 1.00e+00h  1\n",
      "  49  1.6637598e+01 7.09e-07 2.95e-08  -2.5 1.37e-01    -  1.00e+00 1.00e+00h  1\n",
      "iter    objective    inf_pr   inf_du lg(mu)  ||d||  lg(rg) alpha_du alpha_pr  ls\n",
      "  50  1.6521647e+01 2.19e-02 1.17e+04  -5.7 1.83e+00    -  9.59e-01 1.00e+00f  1\n",
      "  51  1.6520272e+01 3.39e-06 4.17e-08  -5.7 2.75e-02    -  1.00e+00 1.00e+00h  1\n",
      "  52  1.6520192e+01 9.39e-09 1.64e-10  -8.6 1.01e-03    -  1.00e+00 1.00e+00h  1\n",
      "\n",
      "Number of Iterations....: 52\n",
      "\n",
      "                                   (scaled)                 (unscaled)\n",
      "Objective...............:   1.6520191520761482e+01    1.6520191520761482e+01\n",
      "Dual infeasibility......:   1.6444812999846882e-10    1.6444812999846882e-10\n",
      "Constraint violation....:   9.3907885911903577e-09    9.3907885911903577e-09\n",
      "Complementarity.........:   2.5872224352029850e-09    2.5872224352029850e-09\n",
      "Overall NLP error.......:   9.3907885911903577e-09    9.3907885911903577e-09\n",
      "\n",
      "\n",
      "Number of objective function evaluations             = 110\n",
      "Number of objective gradient evaluations             = 53\n",
      "Number of equality constraint evaluations            = 110\n",
      "Number of inequality constraint evaluations          = 0\n",
      "Number of equality constraint Jacobian evaluations   = 53\n",
      "Number of inequality constraint Jacobian evaluations = 0\n",
      "Number of Lagrangian Hessian evaluations             = 52\n",
      "Total CPU secs in IPOPT (w/o function evaluations)   =      0.024\n",
      "Total CPU secs in NLP function evaluations           =      0.001\n",
      "\n",
      "EXIT: Optimal Solution Found.\n",
      "final time =  16.52 seconds\n"
     ]
    }
   ],
   "source": [
    "# Declare the discretizer\n",
    "discretizer = pyo.TransformationFactory('dae.collocation')\n",
    "discretizer.apply_to(m,nfe=15,scheme='LAGRANGE-RADAU',ncp=3)\n",
    "\n",
    "# force piecewise constant controls (acceleration) over each finite element\n",
    "m = discretizer.reduce_collocation_points(m,var=m.u,ncp=1,contset=m.tau)\n",
    "\n",
    "# Solve\n",
    "solver = pyo.SolverFactory('ipopt')\n",
    "solver.solve(m,tee=True)\n",
    "\n",
    "print(\"final time = %6.2f seconds\" %(pyo.value(m.tf)))"
   ]
  }
 ],
 "metadata": {
  "colab": {
   "provenance": []
  },
  "kernelspec": {
   "display_name": "Python 3",
   "language": "python",
   "name": "python3"
  },
  "language_info": {
   "codemirror_mode": {
    "name": "ipython",
    "version": 3
   },
   "file_extension": ".py",
   "mimetype": "text/x-python",
   "name": "python",
   "nbconvert_exporter": "python",
   "pygments_lexer": "ipython3",
   "version": "3.10.14"
  }
 },
 "nbformat": 4,
 "nbformat_minor": 0
}
