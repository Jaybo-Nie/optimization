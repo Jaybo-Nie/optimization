{
 "cells": [
  {
   "cell_type": "markdown",
   "metadata": {},
   "source": [
    "# Integer Programs"
   ]
  },
  {
   "cell_type": "code",
   "execution_count": 1,
   "metadata": {},
   "outputs": [],
   "source": [
    "# This code cell installs packages on Colab\n",
    "\n",
    "import sys\n",
    "if \"google.colab\" in sys.modules:\n",
    "    !wget \"https://raw.githubusercontent.com/ndcbe/optimization/main/notebooks/helper.py\"\n",
    "    import helper\n",
    "    helper.easy_install()\n",
    "else:\n",
    "    sys.path.insert(0, '../')\n",
    "    import helper\n",
    "helper.set_plotting_style()"
   ]
  },
  {
   "cell_type": "markdown",
   "metadata": {},
   "source": [
    "## Optimizing Across Process Alternatives"
   ]
  },
  {
   "cell_type": "markdown",
   "metadata": {},
   "source": [
    "Reference: Example 15.3 from Biegler, Grossmann, Westerberg (1997). [See handout](../../handouts/ip_handout.pdf)"
   ]
  },
  {
   "cell_type": "markdown",
   "metadata": {},
   "source": [
    "Assume that we have the choice of selecting two reactors (shown below) for the reaction $A \\rightarrow B$. Reactor I has a higher conversation (80%) but it is more expensive; reactor II has a lower conversion (66.7%) but is cheaper. The cost of feed $A$ is \\$5/kmol. Which process alternative (reactor I, reactor II, or both) has the minimum costs to make 10 kmol/hr of product B?"
   ]
  },
  {
   "cell_type": "markdown",
   "metadata": {},
   "source": [
    "Let $x_i$ be the size of reactor $i$.\n",
    "\n",
    "Continuous cost model: $\\underbrace{c_i (x_i)^{0.6}}_{\\text{reactor}} + \\underbrace{5.0 x_i}_{\\text{feed}}$"
   ]
  },
  {
   "cell_type": "markdown",
   "metadata": {},
   "source": [
    "### Develop the Optimization Model"
   ]
  },
  {
   "cell_type": "markdown",
   "metadata": {},
   "source": [
    "**Draw a Picture**"
   ]
  },
  {
   "cell_type": "markdown",
   "metadata": {},
   "source": [
    "**Sets**\n",
    "\n",
    "```{dropdown} Click to expand\n",
    "Reactors: $\\mathcal{R} = \\{1,2}$\n",
    "```"
   ]
  },
  {
   "cell_type": "markdown",
   "metadata": {},
   "source": [
    "**Parameters**\n",
    "\n",
    "```{dropdown} Click to expand\n",
    "**Reactor cost**: $\\omega_r$\n",
    "\n",
    "    $\\omega_1 = 5.5$ $\\frac{\\$}{\\text{hr}}$\n",
    "\n",
    "    $\\omega_2 = 4.0$ $\\frac{\\$}{\\text{hr}}$\n",
    "\n",
    "**Reactor conversion**: $\\theta_r$\n",
    "\n",
    "    $\\theta_1 = 0.8$\n",
    "\n",
    "    $\\theta_2 = 0.67$\n",
    "\n",
    "**Feed cost**: $\\Omega = 5$ $\\frac{\\$}{\\text{kmol}}$\n",
    "\n",
    "**Product flowrate**: $F = 10$ $\\frac{\\text{kmol}}{\\text{hr}}$\n",
    "```"
   ]
  },
  {
   "cell_type": "markdown",
   "metadata": {},
   "source": [
    "**Variables**\n",
    "\n",
    "```{dropdown} Click to expand\n",
    "* Total feed flowrate: $x_0$\n",
    "* Reactor feed flowrate: $x_r$\n",
    "* Reactor effluent: $z_r$\n",
    "```\n"
   ]
  },
  {
   "cell_type": "markdown",
   "metadata": {},
   "source": [
    "**Objective**\n",
    "\n",
    "```{dropdown} Click to expand\n",
    "**Minimize Total Cost**\n",
    "\n",
    "$ C = 5.5 (x_1)^{0.6} + 4.0 (x_2)^{0.6} + 5.0 x_0 $\n",
    "\n",
    "**Cost Components**:\n",
    "* Reactor I: $5.5 (x_1)^{0.6}$ \n",
    "* Reactor II: $4.0 (x_2)^{0.6}$ \n",
    "* Feed: $5.0 x_0$\n",
    "\n",
    "\n",
    "```"
   ]
  },
  {
   "cell_type": "markdown",
   "metadata": {},
   "source": [
    "**Constraints**\n",
    "\n",
    "```{dropdown} Click to expand\n",
    "**Reaction**: $A \\rightarrow B$\n",
    "\n",
    "**Mass Balances**:\n",
    "* Initial split : $x_0 = x_1 + x_2$\n",
    "* Reactor I: $z_1 = 0.8 x_1$\n",
    "* Reactor II: $z_2 = 0.67 x_2$\n",
    "* Final mixer: $z_1 + z_2 = 10$\n",
    "\n",
    "**Bounds**:\n",
    "\n",
    "$x_i \\geq 0$\n",
    "\n",
    "$z_i \\geq 0$\n",
    "```"
   ]
  },
  {
   "cell_type": "markdown",
   "metadata": {},
   "source": [
    "**Degree of Freedom Analysis**\n",
    "\n",
    "```{dropdown} Click to expand\n",
    "Continuous variables: 5\n",
    "\n",
    "Equality constraints: 4\n",
    "```\n"
   ]
  },
  {
   "cell_type": "markdown",
   "metadata": {},
   "source": [
    "### Solve with Continuous Cost Model in Pyomo"
   ]
  },
  {
   "cell_type": "markdown",
   "metadata": {},
   "source": [
    "We start my defining the model in Pyomo."
   ]
  },
  {
   "cell_type": "code",
   "execution_count": 2,
   "metadata": {},
   "outputs": [
    {
     "name": "stdout",
     "output_type": "stream",
     "text": [
      "1 Set Declarations\n",
      "    REACTORS : Size=1, Index=None, Ordered=Insertion\n",
      "        Key  : Dimen : Domain : Size : Members\n",
      "        None :     1 :    Any :    2 : {1, 2}\n",
      "\n",
      "4 Param Declarations\n",
      "    conversion : Size=2, Index=REACTORS, Domain=Any, Default=None, Mutable=False\n",
      "        Key : Value\n",
      "          1 :   0.8\n",
      "          2 :  0.67\n",
      "    feed_cost : Size=1, Index=None, Domain=Any, Default=None, Mutable=False\n",
      "        Key  : Value\n",
      "        None :   5.0\n",
      "    product_flowrate : Size=1, Index=None, Domain=Any, Default=None, Mutable=False\n",
      "        Key  : Value\n",
      "        None :  10.0\n",
      "    reactor_cost : Size=2, Index=REACTORS, Domain=Any, Default=None, Mutable=False\n",
      "        Key : Value\n",
      "          1 :   5.5\n",
      "          2 :   4.0\n",
      "\n",
      "3 Var Declarations\n",
      "    feed_flowrate : Size=1, Index=None\n",
      "        Key  : Lower : Value : Upper : Fixed : Stale : Domain\n",
      "        None :     0 :  None :  None : False :  True : NonNegativeReals\n",
      "    reactor_effluent : Size=2, Index=REACTORS\n",
      "        Key : Lower : Value : Upper : Fixed : Stale : Domain\n",
      "          1 :     0 :  None :  None : False :  True : NonNegativeReals\n",
      "          2 :     0 :  None :  None : False :  True : NonNegativeReals\n",
      "    reactor_feed : Size=2, Index=REACTORS\n",
      "        Key : Lower : Value : Upper : Fixed : Stale : Domain\n",
      "          1 :     0 :  None :  None : False :  True : NonNegativeReals\n",
      "          2 :     0 :  None :  None : False :  True : NonNegativeReals\n",
      "\n",
      "1 Objective Declarations\n",
      "    cost : Size=1, Index=None, Active=True\n",
      "        Key  : Active : Sense    : Expression\n",
      "        None :   True : minimize : 5.5*reactor_feed[1]**0.6 + 4.0*reactor_feed[2]**0.6 + 5.0*feed_flowrate\n",
      "\n",
      "3 Constraint Declarations\n",
      "    inlet_split : Size=1, Index=None, Active=True\n",
      "        Key  : Lower : Body                                                : Upper : Active\n",
      "        None :   0.0 : feed_flowrate - (reactor_feed[1] + reactor_feed[2]) :   0.0 :   True\n",
      "    mixer : Size=1, Index=None, Active=True\n",
      "        Key  : Lower : Body                                      : Upper : Active\n",
      "        None :  10.0 : reactor_effluent[1] + reactor_effluent[2] :  10.0 :   True\n",
      "    reactor_performance : Size=2, Index=REACTORS, Active=True\n",
      "        Key : Lower : Body                                       : Upper : Active\n",
      "          1 :   0.0 :  reactor_effluent[1] - 0.8*reactor_feed[1] :   0.0 :   True\n",
      "          2 :   0.0 : reactor_effluent[2] - 0.67*reactor_feed[2] :   0.0 :   True\n",
      "\n",
      "12 Declarations: REACTORS reactor_cost product_flowrate conversion feed_cost feed_flowrate reactor_feed reactor_effluent inlet_split reactor_performance mixer cost\n"
     ]
    }
   ],
   "source": [
    "import pyomo.environ as pyo\n",
    "\n",
    "nlp = pyo.ConcreteModel()\n",
    "\n",
    "## Define sets\n",
    "nlp.REACTORS = pyo.Set(initialize=range(1,3))\n",
    "\n",
    "## Define parameters (data)\n",
    "\n",
    "# $ / hr\n",
    "cost_coefficient = {1:5.5, 2:4.0}\n",
    "nlp.reactor_cost = pyo.Param(nlp.REACTORS, initialize=cost_coefficient)\n",
    "\n",
    "# kmol/hr B\n",
    "nlp.product_flowrate = pyo.Param(initialize=10.0)\n",
    "\n",
    "# conversion fraction\n",
    "reactor_conversion = {1:0.8, 2:0.67}\n",
    "nlp.conversion = pyo.Param(nlp.REACTORS, initialize=reactor_conversion)\n",
    "\n",
    "# feed cost, $/kmol of A\n",
    "nlp.feed_cost = pyo.Param(initialize=5.0)\n",
    "\n",
    "\n",
    "## Define variables\n",
    "\n",
    "# Feed flowrate into reactor, x0 in handout illustration\n",
    "nlp.feed_flowrate = pyo.Var(domain=pyo.NonNegativeReals)\n",
    "\n",
    "# Reactor feed, x1 and x2 in handout illustration\n",
    "nlp.reactor_feed = pyo.Var(nlp.REACTORS, domain=pyo.NonNegativeReals)\n",
    "\n",
    "# Reactor effluent (outlet), z1 and z2 in handout illustration\n",
    "nlp.reactor_effluent = pyo.Var(nlp.REACTORS, domain=pyo.NonNegativeReals)\n",
    "\n",
    "## Define constraints\n",
    "\n",
    "# Add your solution here\n",
    "\n",
    "## Define objective\n",
    "nlp.cost = pyo.Objective(expr=sum(nlp.reactor_cost[r] * (nlp.reactor_feed[r])**(0.6) for r in nlp.REACTORS) +\n",
    "                        nlp.feed_cost * nlp.feed_flowrate)\n",
    "\n",
    "nlp.pprint()"
   ]
  },
  {
   "cell_type": "markdown",
   "metadata": {},
   "source": [
    "```{dropdown} Click to seel the solution to the activity\n",
    "\n",
    "```python\n",
    "# mass balance over splitter\n",
    "nlp.inlet_split = pyo.Constraint(expr=nlp.feed_flowrate == sum(nlp.reactor_feed[r] for r in nlp.REACTORS))\n",
    "\n",
    "# reactor conversion\n",
    "def rule_reactor(m, r):\n",
    "    return m.reactor_effluent[r] == m.conversion[r] * m.reactor_feed[r]\n",
    "nlp.reactor_performance = pyo.Constraint(nlp.REACTORS, rule=rule_reactor)\n",
    "\n",
    "# mass balance over mixer meets product requirements\n",
    "nlp.mixer = pyo.Constraint(expr=nlp.product_flowrate == sum(nlp.reactor_effluent[r] for r in nlp.REACTORS))"
   ]
  },
  {
   "cell_type": "markdown",
   "metadata": {},
   "source": [
    "### Initialize to Favor Reaction 1 and Solve"
   ]
  },
  {
   "cell_type": "code",
   "execution_count": 3,
   "metadata": {},
   "outputs": [
    {
     "name": "stdout",
     "output_type": "stream",
     "text": [
      "1 Set Declarations\n",
      "    REACTORS : Size=1, Index=None, Ordered=Insertion\n",
      "        Key  : Dimen : Domain : Size : Members\n",
      "        None :     1 :    Any :    2 : {1, 2}\n",
      "\n",
      "4 Param Declarations\n",
      "    conversion : Size=2, Index=REACTORS, Domain=Any, Default=None, Mutable=False\n",
      "        Key : Value\n",
      "          1 :   0.8\n",
      "          2 :  0.67\n",
      "    feed_cost : Size=1, Index=None, Domain=Any, Default=None, Mutable=False\n",
      "        Key  : Value\n",
      "        None :   5.0\n",
      "    product_flowrate : Size=1, Index=None, Domain=Any, Default=None, Mutable=False\n",
      "        Key  : Value\n",
      "        None :  10.0\n",
      "    reactor_cost : Size=2, Index=REACTORS, Domain=Any, Default=None, Mutable=False\n",
      "        Key : Value\n",
      "          1 :   5.5\n",
      "          2 :   4.0\n",
      "\n",
      "3 Var Declarations\n",
      "    feed_flowrate : Size=1, Index=None\n",
      "        Key  : Lower : Value : Upper : Fixed : Stale : Domain\n",
      "        None :     0 :  20.0 :  None : False : False : NonNegativeReals\n",
      "    reactor_effluent : Size=2, Index=REACTORS\n",
      "        Key : Lower : Value : Upper : Fixed : Stale : Domain\n",
      "          1 :     0 :  16.0 :  None : False : False : NonNegativeReals\n",
      "          2 :     0 :   0.0 :  None : False : False : NonNegativeReals\n",
      "    reactor_feed : Size=2, Index=REACTORS\n",
      "        Key : Lower : Value : Upper : Fixed : Stale : Domain\n",
      "          1 :     0 :  20.0 :  None : False : False : NonNegativeReals\n",
      "          2 :     0 :     0 :  None : False : False : NonNegativeReals\n",
      "\n",
      "1 Objective Declarations\n",
      "    cost : Size=1, Index=None, Active=True\n",
      "        Key  : Active : Sense    : Expression\n",
      "        None :   True : minimize : 5.5*reactor_feed[1]**0.6 + 4.0*reactor_feed[2]**0.6 + 5.0*feed_flowrate\n",
      "\n",
      "3 Constraint Declarations\n",
      "    inlet_split : Size=1, Index=None, Active=True\n",
      "        Key  : Lower : Body                                                : Upper : Active\n",
      "        None :   0.0 : feed_flowrate - (reactor_feed[1] + reactor_feed[2]) :   0.0 :   True\n",
      "    mixer : Size=1, Index=None, Active=True\n",
      "        Key  : Lower : Body                                      : Upper : Active\n",
      "        None :  10.0 : reactor_effluent[1] + reactor_effluent[2] :  10.0 :   True\n",
      "    reactor_performance : Size=2, Index=REACTORS, Active=True\n",
      "        Key : Lower : Body                                       : Upper : Active\n",
      "          1 :   0.0 :  reactor_effluent[1] - 0.8*reactor_feed[1] :   0.0 :   True\n",
      "          2 :   0.0 : reactor_effluent[2] - 0.67*reactor_feed[2] :   0.0 :   True\n",
      "\n",
      "12 Declarations: REACTORS reactor_cost product_flowrate conversion feed_cost feed_flowrate reactor_feed reactor_effluent inlet_split reactor_performance mixer cost\n"
     ]
    }
   ],
   "source": [
    "def initialize(model, reactor_choice=1):\n",
    "    ''' Initialize all of the variables in the model to demonstrate local solutions\n",
    "    \n",
    "    Arguments:\n",
    "        model: Pyomo model\n",
    "        reactor_choice: 1 or 2\n",
    "    \n",
    "    Returns:\n",
    "        nothing\n",
    "        \n",
    "    Action:\n",
    "        initializes model\n",
    "    \n",
    "    '''\n",
    "    \n",
    "    # Guess 20 kmol/hr feed of A\n",
    "    model.feed_flowrate = 20.0\n",
    "    \n",
    "    # Either assign all of the feed to reactor 1 or 2\n",
    "    if reactor_choice == 1:\n",
    "        model.reactor_feed[1] = 20.0\n",
    "        model.reactor_feed[2] = 0\n",
    "    elif reactor_choice == 2:\n",
    "        model.reactor_feed[1] = 0\n",
    "        model.reactor_feed[2] = 20.0\n",
    "    else:\n",
    "        raise ValueError(\"Argument reactor_choice needs value 1 or 2.\")\n",
    "    \n",
    "    # Based on the feed assignments, calculate effluent flowrate\n",
    "    for r in model.REACTORS:\n",
    "        model.reactor_effluent[r] = model.reactor_feed[r]() * model.conversion[r]\n",
    "    \n",
    "initialize(nlp, reactor_choice=1)\n",
    "nlp.pprint()"
   ]
  },
  {
   "cell_type": "markdown",
   "metadata": {},
   "source": [
    "Now let's solve the model."
   ]
  },
  {
   "cell_type": "code",
   "execution_count": 4,
   "metadata": {},
   "outputs": [
    {
     "name": "stdout",
     "output_type": "stream",
     "text": [
      "Error evaluating \"var =\" definition -1: can't evaluate pow'(0,0.6).\n",
      "Ipopt 3.13.2: \n",
      "\n",
      "******************************************************************************\n",
      "This program contains Ipopt, a library for large-scale nonlinear optimization.\n",
      " Ipopt is released as open source code under the Eclipse Public License (EPL).\n",
      "         For more information visit http://projects.coin-or.org/Ipopt\n",
      "\n",
      "This version of Ipopt was compiled from source code available at\n",
      "    https://github.com/IDAES/Ipopt as part of the Institute for the Design of\n",
      "    Advanced Energy Systems Process Systems Engineering Framework (IDAES PSE\n",
      "    Framework) Copyright (c) 2018-2019. See https://github.com/IDAES/idaes-pse.\n",
      "\n",
      "This version of Ipopt was compiled using HSL, a collection of Fortran codes\n",
      "    for large-scale scientific computation.  All technical papers, sales and\n",
      "    publicity material resulting from use of the HSL codes within IPOPT must\n",
      "    contain the following acknowledgement:\n",
      "        HSL, a collection of Fortran codes for large-scale scientific\n",
      "        computation. See http://www.hsl.rl.ac.uk.\n",
      "******************************************************************************\n",
      "\n",
      "This is Ipopt version 3.13.2, running with linear solver ma27.\n",
      "\n",
      "Number of nonzeros in equality constraint Jacobian...:        9\n",
      "Number of nonzeros in inequality constraint Jacobian.:        0\n",
      "Number of nonzeros in Lagrangian Hessian.............:        2\n",
      "\n",
      "ERROR: Solver (ipopt) returned non-zero return code (1)\n",
      "ERROR: See the solver log above for diagnostic information.\n"
     ]
    },
    {
     "ename": "ApplicationError",
     "evalue": "Solver (ipopt) did not exit normally",
     "output_type": "error",
     "traceback": [
      "\u001b[0;31m---------------------------------------------------------------------------\u001b[0m",
      "\u001b[0;31mApplicationError\u001b[0m                          Traceback (most recent call last)",
      "Cell \u001b[0;32mIn[4], line 2\u001b[0m\n\u001b[1;32m      1\u001b[0m solver \u001b[38;5;241m=\u001b[39m pyo\u001b[38;5;241m.\u001b[39mSolverFactory(\u001b[38;5;124m'\u001b[39m\u001b[38;5;124mipopt\u001b[39m\u001b[38;5;124m'\u001b[39m)\n\u001b[0;32m----> 2\u001b[0m results \u001b[38;5;241m=\u001b[39m \u001b[43msolver\u001b[49m\u001b[38;5;241;43m.\u001b[39;49m\u001b[43msolve\u001b[49m\u001b[43m(\u001b[49m\u001b[43mnlp\u001b[49m\u001b[43m,\u001b[49m\u001b[43m \u001b[49m\u001b[43mtee\u001b[49m\u001b[38;5;241;43m=\u001b[39;49m\u001b[38;5;28;43;01mTrue\u001b[39;49;00m\u001b[43m)\u001b[49m\n",
      "File \u001b[0;32m~/anaconda3/envs/controls/lib/python3.10/site-packages/pyomo/opt/base/solvers.py:627\u001b[0m, in \u001b[0;36mOptSolver.solve\u001b[0;34m(self, *args, **kwds)\u001b[0m\n\u001b[1;32m    625\u001b[0m     \u001b[38;5;28;01melif\u001b[39;00m \u001b[38;5;28mhasattr\u001b[39m(_status, \u001b[38;5;124m'\u001b[39m\u001b[38;5;124mlog\u001b[39m\u001b[38;5;124m'\u001b[39m) \u001b[38;5;129;01mand\u001b[39;00m _status\u001b[38;5;241m.\u001b[39mlog:\n\u001b[1;32m    626\u001b[0m         logger\u001b[38;5;241m.\u001b[39merror(\u001b[38;5;124m\"\u001b[39m\u001b[38;5;124mSolver log:\u001b[39m\u001b[38;5;130;01m\\n\u001b[39;00m\u001b[38;5;124m\"\u001b[39m \u001b[38;5;241m+\u001b[39m \u001b[38;5;28mstr\u001b[39m(_status\u001b[38;5;241m.\u001b[39mlog))\n\u001b[0;32m--> 627\u001b[0m     \u001b[38;5;28;01mraise\u001b[39;00m ApplicationError(\u001b[38;5;124m\"\u001b[39m\u001b[38;5;124mSolver (\u001b[39m\u001b[38;5;132;01m%s\u001b[39;00m\u001b[38;5;124m) did not exit normally\u001b[39m\u001b[38;5;124m\"\u001b[39m \u001b[38;5;241m%\u001b[39m \u001b[38;5;28mself\u001b[39m\u001b[38;5;241m.\u001b[39mname)\n\u001b[1;32m    628\u001b[0m solve_completion_time \u001b[38;5;241m=\u001b[39m time\u001b[38;5;241m.\u001b[39mtime()\n\u001b[1;32m    629\u001b[0m \u001b[38;5;28;01mif\u001b[39;00m \u001b[38;5;28mself\u001b[39m\u001b[38;5;241m.\u001b[39m_report_timing:\n",
      "\u001b[0;31mApplicationError\u001b[0m: Solver (ipopt) did not exit normally"
     ]
    }
   ],
   "source": [
    "solver = pyo.SolverFactory('ipopt')\n",
    "results = solver.solve(nlp, tee=True)"
   ]
  },
  {
   "cell_type": "markdown",
   "metadata": {},
   "source": [
    "What happened? $0^{0.6}$ is not well defined. Work around? Let's set the lower bound to something really small:"
   ]
  },
  {
   "cell_type": "code",
   "execution_count": 5,
   "metadata": {},
   "outputs": [
    {
     "name": "stdout",
     "output_type": "stream",
     "text": [
      "1 Set Declarations\n",
      "    REACTORS : Size=1, Index=None, Ordered=Insertion\n",
      "        Key  : Dimen : Domain : Size : Members\n",
      "        None :     1 :    Any :    2 : {1, 2}\n",
      "\n",
      "4 Param Declarations\n",
      "    conversion : Size=2, Index=REACTORS, Domain=Any, Default=None, Mutable=False\n",
      "        Key : Value\n",
      "          1 :   0.8\n",
      "          2 :  0.67\n",
      "    feed_cost : Size=1, Index=None, Domain=Any, Default=None, Mutable=False\n",
      "        Key  : Value\n",
      "        None :   5.0\n",
      "    product_flowrate : Size=1, Index=None, Domain=Any, Default=None, Mutable=False\n",
      "        Key  : Value\n",
      "        None :  10.0\n",
      "    reactor_cost : Size=2, Index=REACTORS, Domain=Any, Default=None, Mutable=False\n",
      "        Key : Value\n",
      "          1 :   5.5\n",
      "          2 :   4.0\n",
      "\n",
      "3 Var Declarations\n",
      "    feed_flowrate : Size=1, Index=None\n",
      "        Key  : Lower : Value : Upper : Fixed : Stale : Domain\n",
      "        None :     0 :  20.0 :  None : False : False : NonNegativeReals\n",
      "    reactor_effluent : Size=2, Index=REACTORS\n",
      "        Key : Lower : Value : Upper : Fixed : Stale : Domain\n",
      "          1 :     0 :  16.0 :  None : False : False : NonNegativeReals\n",
      "          2 :     0 :   0.0 :  None : False : False : NonNegativeReals\n",
      "    reactor_feed : Size=2, Index=REACTORS\n",
      "        Key : Lower : Value : Upper : Fixed : Stale : Domain\n",
      "          1 : 1e-06 :  20.0 :  None : False : False : NonNegativeReals\n",
      "          2 : 1e-06 : 1e-06 :  None : False : False : NonNegativeReals\n",
      "\n",
      "1 Objective Declarations\n",
      "    cost : Size=1, Index=None, Active=True\n",
      "        Key  : Active : Sense    : Expression\n",
      "        None :   True : minimize : 5.5*reactor_feed[1]**0.6 + 4.0*reactor_feed[2]**0.6 + 5.0*feed_flowrate\n",
      "\n",
      "3 Constraint Declarations\n",
      "    inlet_split : Size=1, Index=None, Active=True\n",
      "        Key  : Lower : Body                                                : Upper : Active\n",
      "        None :   0.0 : feed_flowrate - (reactor_feed[1] + reactor_feed[2]) :   0.0 :   True\n",
      "    mixer : Size=1, Index=None, Active=True\n",
      "        Key  : Lower : Body                                      : Upper : Active\n",
      "        None :  10.0 : reactor_effluent[1] + reactor_effluent[2] :  10.0 :   True\n",
      "    reactor_performance : Size=2, Index=REACTORS, Active=True\n",
      "        Key : Lower : Body                                       : Upper : Active\n",
      "          1 :   0.0 :  reactor_effluent[1] - 0.8*reactor_feed[1] :   0.0 :   True\n",
      "          2 :   0.0 : reactor_effluent[2] - 0.67*reactor_feed[2] :   0.0 :   True\n",
      "\n",
      "12 Declarations: REACTORS reactor_cost product_flowrate conversion feed_cost feed_flowrate reactor_feed reactor_effluent inlet_split reactor_performance mixer cost\n"
     ]
    }
   ],
   "source": [
    "small_number = 1E-6\n",
    "for r in nlp.REACTORS:\n",
    "    \n",
    "    # Set lower bound\n",
    "    nlp.reactor_feed[r].setlb(small_number)\n",
    "    \n",
    "    # Adjust initial point if needed\n",
    "    nlp.reactor_feed[r] = max(nlp.reactor_feed[r](), small_number)\n",
    "    \n",
    "nlp.pprint()"
   ]
  },
  {
   "cell_type": "markdown",
   "metadata": {},
   "source": [
    "Now let's resolve:"
   ]
  },
  {
   "cell_type": "code",
   "execution_count": 6,
   "metadata": {},
   "outputs": [
    {
     "name": "stdout",
     "output_type": "stream",
     "text": [
      "Ipopt 3.13.2: \n",
      "\n",
      "******************************************************************************\n",
      "This program contains Ipopt, a library for large-scale nonlinear optimization.\n",
      " Ipopt is released as open source code under the Eclipse Public License (EPL).\n",
      "         For more information visit http://projects.coin-or.org/Ipopt\n",
      "\n",
      "This version of Ipopt was compiled from source code available at\n",
      "    https://github.com/IDAES/Ipopt as part of the Institute for the Design of\n",
      "    Advanced Energy Systems Process Systems Engineering Framework (IDAES PSE\n",
      "    Framework) Copyright (c) 2018-2019. See https://github.com/IDAES/idaes-pse.\n",
      "\n",
      "This version of Ipopt was compiled using HSL, a collection of Fortran codes\n",
      "    for large-scale scientific computation.  All technical papers, sales and\n",
      "    publicity material resulting from use of the HSL codes within IPOPT must\n",
      "    contain the following acknowledgement:\n",
      "        HSL, a collection of Fortran codes for large-scale scientific\n",
      "        computation. See http://www.hsl.rl.ac.uk.\n",
      "******************************************************************************\n",
      "\n",
      "This is Ipopt version 3.13.2, running with linear solver ma27.\n",
      "\n",
      "Number of nonzeros in equality constraint Jacobian...:        9\n",
      "Number of nonzeros in inequality constraint Jacobian.:        0\n",
      "Number of nonzeros in Lagrangian Hessian.............:        2\n",
      "\n",
      "Total number of variables............................:        5\n",
      "                     variables with only lower bounds:        5\n",
      "                variables with lower and upper bounds:        0\n",
      "                     variables with only upper bounds:        0\n",
      "Total number of equality constraints.................:        4\n",
      "Total number of inequality constraints...............:        0\n",
      "        inequality constraints with only lower bounds:        0\n",
      "   inequality constraints with lower and upper bounds:        0\n",
      "        inequality constraints with only upper bounds:        0\n",
      "\n",
      "iter    objective    inf_pr   inf_du lg(mu)  ||d||  lg(rg) alpha_du alpha_pr  ls\n",
      "   0  1.3344037e+02 6.01e+00 8.32e-01  -1.0 0.00e+00    -  0.00e+00 0.00e+00   0\n",
      "   1  8.9498771e+01 1.78e-15 1.11e+01  -1.0 7.77e+00    -  4.44e-02 1.00e+00f  1\n",
      "   2  8.9572341e+01 1.78e-15 5.52e+00  -1.0 4.18e-02    -  9.98e-01 5.00e-01f  2\n",
      "   3  8.9546293e+01 1.78e-15 8.09e-05  -1.0 7.46e-03    -  1.00e+00 1.00e+00f  1\n",
      "   4  8.7594136e+01 1.78e-15 5.50e+00  -2.5 5.48e-01    -  9.88e-01 6.12e-01f  1\n",
      "   5  8.7593412e+01 0.00e+00 1.87e-01  -2.5 1.87e-05   4.0 1.00e+00 1.00e+00f  1\n",
      "   6  8.7589094e+01 1.78e-15 2.70e-02  -2.5 1.08e-04    -  1.00e+00 1.00e+00f  1\n",
      "   7  8.7533830e+01 1.78e-15 8.54e+01  -3.8 1.31e-03    -  1.00e+00 6.28e-01f  1\n",
      "   8  8.7542171e+01 1.78e-15 2.02e+02  -3.8 8.12e-05    -  2.29e-03 5.00e-01f  2\n",
      "   9  8.7536494e+01 1.78e-15 1.91e+01  -3.8 3.28e-05   5.3 1.00e+00 1.00e+00f  1\n",
      "iter    objective    inf_pr   inf_du lg(mu)  ||d||  lg(rg) alpha_du alpha_pr  ls\n",
      "  10  8.7535635e+01 8.47e-22 7.35e+00  -3.8 6.31e-06   5.8 1.00e+00 5.00e-01f  2\n",
      "  11  8.7536085e+01 1.78e-15 8.56e-01  -3.8 1.58e-06    -  1.00e+00 1.00e+00f  1\n",
      "  12  8.7536020e+01 1.78e-15 1.36e-02  -3.8 2.39e-07    -  1.00e+00 1.00e+00f  1\n",
      "  13  8.7536022e+01 1.78e-15 1.73e-05  -3.8 8.30e-09    -  1.00e+00 1.00e+00h  1\n",
      "  14  8.7533756e+01 1.78e-15 3.24e+01  -5.7 1.03e-05    -  1.00e+00 5.98e-01f  1\n",
      "  15  8.7533783e+01 1.78e-15 5.52e-02  -5.7 4.47e-08    -  1.00e+00 1.00e+00f  1\n",
      "  16  8.7533768e+01 1.78e-15 1.74e-02  -5.7 2.57e-08    -  1.00e+00 1.00e+00f  1\n",
      "  17  8.7533768e+01 0.00e+00 1.13e-07  -5.7 6.42e-11    -  1.00e+00 1.00e+00h  1\n",
      "  18  8.7533756e+01 0.00e+00 6.30e-02  -8.6 1.93e-08    -  1.00e+00 9.76e-01f  1\n",
      "  19  8.7533756e+01 1.78e-15 1.79e-08  -8.6 2.50e-11    -  1.00e+00 1.00e+00f  1\n",
      "iter    objective    inf_pr   inf_du lg(mu)  ||d||  lg(rg) alpha_du alpha_pr  ls\n",
      "  20  8.7533756e+01 1.78e-15 7.27e-09  -9.0 1.59e-11    -  1.00e+00 1.00e+00h  1\n",
      "\n",
      "Number of Iterations....: 20\n",
      "\n",
      "                                   (scaled)                 (unscaled)\n",
      "Objective...............:   1.4519923356722007e+01    8.7533756319141730e+01\n",
      "Dual infeasibility......:   7.2660668593016453e-09    4.3803683410370973e-08\n",
      "Constraint violation....:   1.7763568394002505e-15    1.7763568394002505e-15\n",
      "Complementarity.........:   9.0911618532142856e-10    5.4806318653791501e-09\n",
      "Overall NLP error.......:   7.2660668593016453e-09    4.3803683410370973e-08\n",
      "\n",
      "\n",
      "Number of objective function evaluations             = 24\n",
      "Number of objective gradient evaluations             = 21\n",
      "Number of equality constraint evaluations            = 24\n",
      "Number of inequality constraint evaluations          = 0\n",
      "Number of equality constraint Jacobian evaluations   = 21\n",
      "Number of inequality constraint Jacobian evaluations = 0\n",
      "Number of Lagrangian Hessian evaluations             = 20\n",
      "Total CPU secs in IPOPT (w/o function evaluations)   =      0.007\n",
      "Total CPU secs in NLP function evaluations           =      0.000\n",
      "\n",
      "EXIT: Optimal Solution Found.\n"
     ]
    }
   ],
   "source": [
    "solver = pyo.SolverFactory('ipopt')\n",
    "results = solver.solve(nlp, tee=True)"
   ]
  },
  {
   "cell_type": "markdown",
   "metadata": {},
   "source": [
    "Now we can print the variable names and values:"
   ]
  },
  {
   "cell_type": "code",
   "execution_count": 7,
   "metadata": {},
   "outputs": [
    {
     "name": "stdout",
     "output_type": "stream",
     "text": [
      "Variable Names\t\tValue\n",
      "feed_flowrate \t\t 12.500000160876471\n",
      "reactor_feed[1] \t\t 12.499999170867413\n",
      "reactor_feed[2] \t\t 1e-06\n",
      "reactor_effluent[1] \t\t 9.99999933669393\n",
      "reactor_effluent[2] \t\t 6.633060682547189e-07\n",
      "\n",
      "Objective Name\t\tValue\n",
      "cost \t\t 87.53376235430073\n"
     ]
    }
   ],
   "source": [
    "def print_solution(model):\n",
    "    '''Print variable names and values\n",
    "    \n",
    "    Arguments:\n",
    "        model: Pyomo model\n",
    "    \n",
    "    '''\n",
    "\n",
    "    print(\"Variable Names\\t\\tValue\")\n",
    "    for c in model.component_data_objects(pyo.Var):\n",
    "        print(c.name,\"\\t\\t\", pyo.value(c))\n",
    "        \n",
    "    print(\"\\nObjective Name\\t\\tValue\")\n",
    "    for c in model.component_data_objects(pyo.Objective):\n",
    "        print(c.name,\"\\t\\t\", pyo.value(c))\n",
    "        \n",
    "print_solution(nlp)"
   ]
  },
  {
   "cell_type": "markdown",
   "metadata": {},
   "source": [
    "### Initialize to Favor Reaction 2 and Solve"
   ]
  },
  {
   "cell_type": "code",
   "execution_count": 8,
   "metadata": {},
   "outputs": [
    {
     "name": "stdout",
     "output_type": "stream",
     "text": [
      "WARNING (W1002): Setting Var 'reactor_feed[1]' to a numeric value `0` outside\n",
      "the bounds (1e-06, None).\n",
      "    See also https://pyomo.readthedocs.io/en/stable/errors.html#w1002\n",
      "Ipopt 3.13.2: \n",
      "\n",
      "******************************************************************************\n",
      "This program contains Ipopt, a library for large-scale nonlinear optimization.\n",
      " Ipopt is released as open source code under the Eclipse Public License (EPL).\n",
      "         For more information visit http://projects.coin-or.org/Ipopt\n",
      "\n",
      "This version of Ipopt was compiled from source code available at\n",
      "    https://github.com/IDAES/Ipopt as part of the Institute for the Design of\n",
      "    Advanced Energy Systems Process Systems Engineering Framework (IDAES PSE\n",
      "    Framework) Copyright (c) 2018-2019. See https://github.com/IDAES/idaes-pse.\n",
      "\n",
      "This version of Ipopt was compiled using HSL, a collection of Fortran codes\n",
      "    for large-scale scientific computation.  All technical papers, sales and\n",
      "    publicity material resulting from use of the HSL codes within IPOPT must\n",
      "    contain the following acknowledgement:\n",
      "        HSL, a collection of Fortran codes for large-scale scientific\n",
      "        computation. See http://www.hsl.rl.ac.uk.\n",
      "******************************************************************************\n",
      "\n",
      "This is Ipopt version 3.13.2, running with linear solver ma27.\n",
      "\n",
      "Number of nonzeros in equality constraint Jacobian...:        9\n",
      "Number of nonzeros in inequality constraint Jacobian.:        0\n",
      "Number of nonzeros in Lagrangian Hessian.............:        2\n",
      "\n",
      "Total number of variables............................:        5\n",
      "                     variables with only lower bounds:        5\n",
      "                variables with lower and upper bounds:        0\n",
      "                     variables with only upper bounds:        0\n",
      "Total number of equality constraints.................:        4\n",
      "Total number of inequality constraints...............:        0\n",
      "        inequality constraints with only lower bounds:        0\n",
      "   inequality constraints with lower and upper bounds:        0\n",
      "        inequality constraints with only upper bounds:        0\n",
      "\n",
      "iter    objective    inf_pr   inf_du lg(mu)  ||d||  lg(rg) alpha_du alpha_pr  ls\n",
      "   0  1.2448375e+02 3.41e+00 8.54e-01  -1.0 0.00e+00    -  0.00e+00 0.00e+00   0\n",
      "   1  9.6785883e+01 0.00e+00 9.38e+00  -1.0 5.37e+00    -  6.58e-02 1.00e+00f  1\n",
      "   2  9.9320862e+01 1.78e-15 2.05e+00  -1.0 2.25e+00    -  1.41e-01 1.00e+00f  1\n",
      "   3  9.9386245e+01 1.78e-15 5.06e-04  -1.0 2.06e-01    -  1.00e+00 1.00e+00f  1\n",
      "   4  9.8712942e+01 1.78e-15 3.67e-02  -1.7 1.26e+00  -2.0 9.62e-01 1.00e+00f  1\n",
      "   5  9.5055675e+01 1.78e-15 3.30e+00  -2.5 5.41e+00  -1.6 1.00e+00 2.76e-01f  1\n",
      "   6  9.4951632e+01 1.78e-15 2.68e+00  -2.5 3.26e-03   2.5 1.00e+00 1.00e+00f  1\n",
      "   7  9.4957287e+01 1.78e-15 1.23e+00  -2.5 2.52e-04   2.9 1.00e+00 5.00e-01f  2\n",
      "   8  9.4955819e+01 0.00e+00 1.75e-03  -2.5 3.33e-05    -  1.00e+00 1.00e+00f  1\n",
      "   9  9.4877882e+01 1.78e-15 8.54e+01  -3.8 1.71e-03    -  1.00e+00 6.18e-01f  1\n",
      "iter    objective    inf_pr   inf_du lg(mu)  ||d||  lg(rg) alpha_du alpha_pr  ls\n",
      "  10  9.4886607e+01 1.78e-15 1.19e+02  -3.8 1.30e-04    -  1.66e-03 2.50e-01f  3\n",
      "  11  9.4883285e+01 1.78e-15 9.54e+01  -3.8 6.25e-05   5.1 1.00e+00 2.60e-01f  2\n",
      "  12  9.4881130e+01 2.71e-20 9.72e+01  -3.8 3.54e-05    -  1.00e+00 2.30e-01f  2\n",
      "  13  9.4880984e+01 1.78e-15 3.37e-02  -3.8 4.78e-07    -  1.00e+00 1.00e+00f  1\n",
      "  14  9.4880897e+01 1.78e-15 1.28e-02  -3.8 2.79e-07    -  1.00e+00 1.00e+00f  1\n",
      "  15  9.4880898e+01 1.78e-15 1.69e-06  -3.8 3.12e-09    -  1.00e+00 1.00e+00h  1\n",
      "  16  9.4877775e+01 6.35e-22 3.25e+01  -5.7 1.24e-05    -  1.00e+00 5.96e-01f  1\n",
      "  17  9.4877812e+01 1.06e-22 5.58e-02  -5.7 5.36e-08    -  1.00e+00 1.00e+00f  1\n",
      "  18  9.4877790e+01 0.00e+00 1.77e-02  -5.7 3.10e-08    -  1.00e+00 1.00e+00f  1\n",
      "  19  9.4877790e+01 1.06e-22 1.14e-07  -5.7 7.69e-11    -  1.00e+00 1.00e+00f  1\n",
      "iter    objective    inf_pr   inf_du lg(mu)  ||d||  lg(rg) alpha_du alpha_pr  ls\n",
      "  20  9.4877775e+01 1.06e-22 5.31e-02  -8.6 2.31e-08    -  1.00e+00 9.76e-01f  1\n",
      "  21  9.4877775e+01 1.78e-15 1.80e-08  -8.6 2.99e-11    -  1.00e+00 1.00e+00f  1\n",
      "  22  9.4877775e+01 1.78e-15 7.30e-09  -9.0 1.90e-11    -  1.00e+00 1.00e+00h  1\n",
      "\n",
      "Number of Iterations....: 22\n",
      "\n",
      "                                   (scaled)                 (unscaled)\n",
      "Objective...............:   1.1445915871146484e+01    9.4877774550678950e+01\n",
      "Dual infeasibility......:   7.2954691177073983e-09    6.0473786631279065e-08\n",
      "Constraint violation....:   1.7763568394002505e-15    1.7763568394002505e-15\n",
      "Complementarity.........:   9.0911629756661984e-10    7.5358697453220019e-09\n",
      "Overall NLP error.......:   7.2954691177073983e-09    6.0473786631279065e-08\n",
      "\n",
      "\n",
      "Number of objective function evaluations             = 32\n",
      "Number of objective gradient evaluations             = 23\n",
      "Number of equality constraint evaluations            = 32\n",
      "Number of inequality constraint evaluations          = 0\n",
      "Number of equality constraint Jacobian evaluations   = 23\n",
      "Number of inequality constraint Jacobian evaluations = 0\n",
      "Number of Lagrangian Hessian evaluations             = 22\n",
      "Total CPU secs in IPOPT (w/o function evaluations)   =      0.009\n",
      "Total CPU secs in NLP function evaluations           =      0.000\n",
      "\n",
      "EXIT: Optimal Solution Found.\n",
      "Variable Names\t\tValue\n",
      "feed_flowrate \t\t 14.925372942237043\n",
      "reactor_feed[1] \t\t 1e-06\n",
      "reactor_feed[2] \t\t 14.925371952227968\n",
      "reactor_effluent[1] \t\t 7.920072602986078e-07\n",
      "reactor_effluent[2] \t\t 9.99999920799274\n",
      "\n",
      "Objective Name\t\tValue\n",
      "cost \t\t 94.87778284900739\n"
     ]
    }
   ],
   "source": [
    "# Initialize\n",
    "initialize(nlp, reactor_choice=2)\n",
    "\n",
    "# Correct for bound\n",
    "# Note: I would have put this in the initialize function but I wanted to show\n",
    "# the error in class\n",
    "for r in nlp.REACTORS:\n",
    "    # Adjust initial point if needed\n",
    "    nlp.reactor_feed[r] = max(nlp.reactor_feed[r](), small_number)\n",
    "\n",
    "results = solver.solve(nlp, tee=True)\n",
    "print_solution(nlp)"
   ]
  },
  {
   "cell_type": "markdown",
   "metadata": {},
   "source": [
    "Which solution is better? Why are there multiple solutions?"
   ]
  },
  {
   "cell_type": "markdown",
   "metadata": {},
   "source": [
    "### Linearized Discrete Cost Model"
   ]
  },
  {
   "cell_type": "markdown",
   "metadata": {},
   "source": [
    "We want to modify the model to:\n",
    "* Easily find the best global solution (reduce impacts of initialization)\n",
    "* Account for the fact there is a minimum reactor size we can purchase"
   ]
  },
  {
   "cell_type": "code",
   "execution_count": 9,
   "metadata": {},
   "outputs": [
    {
     "data": {
      "image/png": "[encoded data removed]",
      "text/plain": [
       "<Figure size 640x480 with 1 Axes>"
      ]
     },
     "metadata": {},
     "output_type": "display_data"
    }
   ],
   "source": [
    "import matplotlib.pyplot as plt\n",
    "import numpy as np\n",
    "\n",
    "feed = np.linspace(0, 20, 101)\n",
    "\n",
    "for reactor in [1, 2]:\n",
    "\n",
    "    if reactor == 1:\n",
    "        c = 5.5\n",
    "        c_linear = 6.4\n",
    "        c_fixed = 7.5\n",
    "        c_feed = 5\n",
    "        color = 'r'\n",
    "    elif reactor == 2:\n",
    "        c = 4.0\n",
    "        c_linear = 6.0\n",
    "        c_fixed = 5.5\n",
    "        color = 'b'\n",
    "    else:\n",
    "        break\n",
    "\n",
    "    cost_continous = c*(feed)**(0.6) + c_feed*feed\n",
    "    cost_linearized = c_linear*feed + c_fixed\n",
    "\n",
    "    plt.plot(feed, cost_continous, label=\"Reactor \" + str(reactor) + \" (continuous)\", color=color, linestyle='-')\n",
    "    plt.plot(feed, cost_linearized, label=\"Reactor \" + str(reactor) + \" (linearized)\", color=color, linestyle='--')\n",
    "\n",
    "plt.legend()\n",
    "plt.show()\n",
    "\n",
    "\n"
   ]
  },
  {
   "cell_type": "markdown",
   "metadata": {},
   "source": [
    "### Enumerate the solutions"
   ]
  },
  {
   "cell_type": "markdown",
   "metadata": {},
   "source": [
    "As an illustration, enumerate through the following four options:\n",
    "1. No reactor\n",
    "2. Reactor I only\n",
    "3. Reactor II only\n",
    "4. Reactor I and II only\n",
    "\n",
    "For each option, ask:\n",
    "* Are the constraints feasible?\n",
    "* What is the objective?"
   ]
  },
  {
   "cell_type": "markdown",
   "metadata": {},
   "source": [
    "### Solve with Pyomo"
   ]
  },
  {
   "cell_type": "markdown",
   "metadata": {},
   "source": [
    "Create and inspect the model."
   ]
  },
  {
   "cell_type": "code",
   "execution_count": 10,
   "metadata": {},
   "outputs": [
    {
     "name": "stdout",
     "output_type": "stream",
     "text": [
      "1 Set Declarations\n",
      "    REACTORS : Size=1, Index=None, Ordered=Insertion\n",
      "        Key  : Dimen : Domain : Size : Members\n",
      "        None :     1 :    Any :    2 : {1, 2}\n",
      "\n",
      "6 Param Declarations\n",
      "    conversion : Size=2, Index=REACTORS, Domain=Any, Default=None, Mutable=False\n",
      "        Key : Value\n",
      "          1 :   0.8\n",
      "          2 :  0.67\n",
      "    feed_cost : Size=1, Index=None, Domain=Any, Default=None, Mutable=False\n",
      "        Key  : Value\n",
      "        None :   5.0\n",
      "    max_flowrate : Size=1, Index=None, Domain=Any, Default=None, Mutable=False\n",
      "        Key  : Value\n",
      "        None :  20.0\n",
      "    product_flowrate : Size=1, Index=None, Domain=Any, Default=None, Mutable=False\n",
      "        Key  : Value\n",
      "        None :  10.0\n",
      "    reactor_cost_fixed : Size=2, Index=REACTORS, Domain=Any, Default=None, Mutable=False\n",
      "        Key : Value\n",
      "          1 :   7.5\n",
      "          2 :   5.5\n",
      "    reactor_cost_linear : Size=2, Index=REACTORS, Domain=Any, Default=None, Mutable=False\n",
      "        Key : Value\n",
      "          1 :   6.4\n",
      "          2 :   6.0\n",
      "\n",
      "4 Var Declarations\n",
      "    feed_flowrate : Size=1, Index=None\n",
      "        Key  : Lower : Value : Upper : Fixed : Stale : Domain\n",
      "        None :     0 :  None :  20.0 : False :  True : NonNegativeReals\n",
      "    reactor_boolean : Size=2, Index=REACTORS\n",
      "        Key : Lower : Value : Upper : Fixed : Stale : Domain\n",
      "          1 :     0 :  None :     1 : False :  True : Boolean\n",
      "          2 :     0 :  None :     1 : False :  True : Boolean\n",
      "    reactor_effluent : Size=2, Index=REACTORS\n",
      "        Key : Lower : Value : Upper : Fixed : Stale : Domain\n",
      "          1 :     0 :  None :  None : False :  True : NonNegativeReals\n",
      "          2 :     0 :  None :  None : False :  True : NonNegativeReals\n",
      "    reactor_feed : Size=2, Index=REACTORS\n",
      "        Key : Lower : Value : Upper : Fixed : Stale : Domain\n",
      "          1 :     0 :  None :  20.0 : False :  True : NonNegativeReals\n",
      "          2 :     0 :  None :  20.0 : False :  True : NonNegativeReals\n",
      "\n",
      "1 Objective Declarations\n",
      "    cost : Size=1, Index=None, Active=True\n",
      "        Key  : Active : Sense    : Expression\n",
      "        None :   True : minimize : 6.4*reactor_feed[1] + 7.5*reactor_boolean[1] + 6.0*reactor_feed[2] + 5.5*reactor_boolean[2]\n",
      "\n",
      "4 Constraint Declarations\n",
      "    inlet_split : Size=1, Index=None, Active=True\n",
      "        Key  : Lower : Body                                                : Upper : Active\n",
      "        None :   0.0 : feed_flowrate - (reactor_feed[1] + reactor_feed[2]) :   0.0 :   True\n",
      "    mixer : Size=1, Index=None, Active=True\n",
      "        Key  : Lower : Body                                      : Upper : Active\n",
      "        None :  10.0 : reactor_effluent[1] + reactor_effluent[2] :  10.0 :   True\n",
      "    reactor_performance : Size=2, Index=REACTORS, Active=True\n",
      "        Key : Lower : Body                                       : Upper : Active\n",
      "          1 :   0.0 :  reactor_effluent[1] - 0.8*reactor_feed[1] :   0.0 :   True\n",
      "          2 :   0.0 : reactor_effluent[2] - 0.67*reactor_feed[2] :   0.0 :   True\n",
      "    toggle_reactor : Size=2, Index=REACTORS, Active=True\n",
      "        Key : Lower : Body                                      : Upper : Active\n",
      "          1 :  -Inf : reactor_feed[1] - 20.0*reactor_boolean[1] :   0.0 :   True\n",
      "          2 :  -Inf : reactor_feed[2] - 20.0*reactor_boolean[2] :   0.0 :   True\n",
      "\n",
      "16 Declarations: REACTORS max_flowrate reactor_cost_linear reactor_cost_fixed product_flowrate conversion feed_cost feed_flowrate reactor_feed reactor_effluent reactor_boolean inlet_split reactor_performance mixer toggle_reactor cost\n"
     ]
    }
   ],
   "source": [
    "milp = pyo.ConcreteModel()\n",
    "\n",
    "## Define sets\n",
    "milp.REACTORS = pyo.Set(initialize=range(1,3))\n",
    "\n",
    "## Define parameters (data)\n",
    "\n",
    "# kmol/hour\n",
    "milp.max_flowrate = pyo.Param(initialize=20.0)\n",
    "\n",
    "# $ / hr\n",
    "# note: this includes the 5.0 linear feed cost\n",
    "cost_coefficient1 = {1:6.4, 2:6.0}\n",
    "milp.reactor_cost_linear = pyo.Param(milp.REACTORS, initialize=cost_coefficient1)\n",
    "\n",
    "# $\n",
    "cost_coefficient2 = {1:7.5, 2:5.5}\n",
    "milp.reactor_cost_fixed = pyo.Param(milp.REACTORS, initialize=cost_coefficient2)\n",
    "\n",
    "# kmol/hr B\n",
    "milp.product_flowrate = pyo.Param(initialize=10.0)\n",
    "\n",
    "# conversion fraction\n",
    "reactor_conversion = {1:0.8, 2:0.67}\n",
    "milp.conversion = pyo.Param(milp.REACTORS, initialize=reactor_conversion)\n",
    "\n",
    "# feed cost, $/kmol of A\n",
    "milp.feed_cost = pyo.Param(initialize=5.0)\n",
    "\n",
    "\n",
    "## Define variables\n",
    "\n",
    "# Feed flowrate into reactor, x0 in handout illustration\n",
    "milp.feed_flowrate = pyo.Var(domain=pyo.NonNegativeReals, bounds=(0, milp.max_flowrate))\n",
    "\n",
    "# Reactor feed, x1 and x2 in handout illustration\n",
    "milp.reactor_feed = pyo.Var(milp.REACTORS, domain=pyo.NonNegativeReals, bounds=(0, milp.max_flowrate))\n",
    "\n",
    "# Reactor effluent (outlet), z1 and z2 in handout illustration\n",
    "milp.reactor_effluent = pyo.Var(milp.REACTORS, domain=pyo.NonNegativeReals)\n",
    "\n",
    "# Boolean variables\n",
    "# Add your solution here\n",
    "\n",
    "## Define constraints\n",
    "\n",
    "# mass balance over splitter\n",
    "milp.inlet_split = pyo.Constraint(expr=milp.feed_flowrate == sum(milp.reactor_feed[r] for r in milp.REACTORS))\n",
    "\n",
    "# reactor conversion\n",
    "def rule_reactor(m, r):\n",
    "    return m.reactor_effluent[r] == m.conversion[r] * m.reactor_feed[r]\n",
    "milp.reactor_performance = pyo.Constraint(milp.REACTORS, rule=rule_reactor)\n",
    "\n",
    "# mass balance over mixer meets product requirements\n",
    "milp.mixer = pyo.Constraint(expr=milp.product_flowrate == sum(milp.reactor_effluent[r] for r in milp.REACTORS))\n",
    "\n",
    "# logical constraints\n",
    "# Add your solution here\n",
    "\n",
    "## Define objective\n",
    "# Note: our linearization already includes feed costs\n",
    "# Add your solution here\n",
    "milp.pprint()"
   ]
  },
  {
   "cell_type": "markdown",
   "metadata": {},
   "source": [
    "```{dropdown} Click to seel the solution to the activity\n",
    "\n",
    "```python\n",
    "# Boolean variables\n",
    "milp.reactor_boolean = pyo.Var(milp.REACTORS, domain=pyo.Boolean)\n",
    "\n",
    "# logical constraints\n",
    "def rule_toggle_reactor(m, r):\n",
    "    return m.reactor_feed[r] <= m.reactor_boolean[r] * m.max_flowrate\n",
    "milp.toggle_reactor = pyo.Constraint(milp.REACTORS, rule=rule_toggle_reactor)\n",
    "\n",
    "# objective\n",
    "milp.cost = pyo.Objective(expr=sum(milp.reactor_cost_linear[r] * milp.reactor_feed[r] + \n",
    "                                   milp.reactor_cost_fixed[r] * milp.reactor_boolean[r]\n",
    "                                   for r in milp.REACTORS) )"
   ]
  },
  {
   "cell_type": "markdown",
   "metadata": {},
   "source": [
    "Solve the model using `cbc`, `bonmin`, `gurobi` (need license), or `cplex` (need license)."
   ]
  },
  {
   "cell_type": "code",
   "execution_count": 11,
   "metadata": {},
   "outputs": [
    {
     "name": "stdout",
     "output_type": "stream",
     "text": [
      "Welcome to the CBC MILP Solver \n",
      "Version: 2.10.5 \n",
      "Build Date: Apr 19 2021 \n",
      "\n",
      "command line - /Users/adowling/anaconda3/envs/controls/bin/cbc -printingOptions all -import /var/folders/8v/lbvy4xb128d687t1pwzl_cfh0000gp/T/tmprnx7qg9n.pyomo.lp -stat=1 -solve -solu /var/folders/8v/lbvy4xb128d687t1pwzl_cfh0000gp/T/tmprnx7qg9n.pyomo.soln (default strategy 1)\n",
      "Option for printingOptions changed from normal to all\n",
      "Presolve 2 (-4) rows, 3 (-4) columns and 4 (-9) elements\n",
      "Statistics for presolved model\n",
      "Original problem has 2 integers (2 of which binary)\n",
      "Presolved problem has 2 integers (2 of which binary)\n",
      "==== 0 zero objective 3 different\n",
      "1 variables have objective of 0.64\n",
      "1 variables have objective of 5.5\n",
      "1 variables have objective of 7.5\n",
      "==== absolute objective values 3 different\n",
      "1 variables have objective of 0.64\n",
      "1 variables have objective of 5.5\n",
      "1 variables have objective of 7.5\n",
      "==== for integers 0 zero objective 2 different\n",
      "1 variables have objective of 5.5\n",
      "1 variables have objective of 7.5\n",
      "==== for integers absolute objective values 2 different\n",
      "1 variables have objective of 5.5\n",
      "1 variables have objective of 7.5\n",
      "===== end objective counts\n",
      "\n",
      "\n",
      "Problem has 2 rows, 3 columns (3 with objective) and 4 elements\n",
      "There are 2 singletons with objective \n",
      "Column breakdown:\n",
      "0 of type 0.0->inf, 1 of type 0.0->up, 0 of type lo->inf, \n",
      "0 of type lo->up, 0 of type free, 0 of type fixed, \n",
      "0 of type -inf->0.0, 0 of type -inf->up, 2 of type 0.0->1.0 \n",
      "Row breakdown:\n",
      "0 of type E 0.0, 0 of type E 1.0, 0 of type E -1.0, \n",
      "0 of type E other, 0 of type G 0.0, 0 of type G 1.0, \n",
      "0 of type G other, 1 of type L 0.0, 0 of type L 1.0, \n",
      "1 of type L other, 0 of type Range 0.0->1.0, 0 of type Range other, \n",
      "0 of type Free \n",
      "Continuous objective value is 84.6875 - 0.00 seconds\n",
      "Cgl0004I processed model has 2 rows, 3 columns (2 integer (2 of which binary)) and 4 elements\n",
      "Cbc0038I Initial state - 0 integers unsatisfied sum - 0\n",
      "Cbc0038I Solution found of 87.5\n",
      "Cbc0038I Relaxing continuous gives 87.5\n",
      "Cbc0038I Before mini branch and bound, 2 integers at bound fixed and 1 continuous\n",
      "Cbc0038I Mini branch and bound did not improve solution (0.00 seconds)\n",
      "Cbc0038I After 0.00 seconds - Feasibility pump exiting with objective of 87.5 - took 0.00 seconds\n",
      "Cbc0012I Integer solution of 87.5 found by feasibility pump after 0 iterations and 0 nodes (0.00 seconds)\n",
      "Cbc0001I Search completed - best objective 87.5, took 0 iterations and 0 nodes (0.00 seconds)\n",
      "Cbc0035I Maximum depth 0, 0 variables fixed on reduced cost\n",
      "Cuts at root node changed objective from 87.5 to 87.5\n",
      "Probing was tried 0 times and created 0 cuts of which 0 were active after adding rounds of cuts (0.000 seconds)\n",
      "Gomory was tried 0 times and created 0 cuts of which 0 were active after adding rounds of cuts (0.000 seconds)\n",
      "Knapsack was tried 0 times and created 0 cuts of which 0 were active after adding rounds of cuts (0.000 seconds)\n",
      "Clique was tried 0 times and created 0 cuts of which 0 were active after adding rounds of cuts (0.000 seconds)\n",
      "MixedIntegerRounding2 was tried 0 times and created 0 cuts of which 0 were active after adding rounds of cuts (0.000 seconds)\n",
      "FlowCover was tried 0 times and created 0 cuts of which 0 were active after adding rounds of cuts (0.000 seconds)\n",
      "TwoMirCuts was tried 0 times and created 0 cuts of which 0 were active after adding rounds of cuts (0.000 seconds)\n",
      "ZeroHalf was tried 0 times and created 0 cuts of which 0 were active after adding rounds of cuts (0.000 seconds)\n",
      "\n",
      "Result - Optimal solution found\n",
      "\n",
      "Objective value:                87.50000000\n",
      "Enumerated nodes:               0\n",
      "Total iterations:               0\n",
      "Time (CPU seconds):             0.00\n",
      "Time (Wallclock seconds):       0.00\n",
      "\n",
      "Total time (CPU seconds):       0.00   (Wallclock seconds):       0.00\n",
      "\n",
      "Variable Names\t\tValue\n",
      "feed_flowrate \t\t 12.5\n",
      "reactor_feed[1] \t\t 12.5\n",
      "reactor_feed[2] \t\t 0.0\n",
      "reactor_effluent[1] \t\t 10.0\n",
      "reactor_effluent[2] \t\t 0.0\n",
      "reactor_boolean[1] \t\t 1.0\n",
      "reactor_boolean[2] \t\t 0.0\n",
      "\n",
      "Objective Name\t\tValue\n",
      "cost \t\t 87.5\n"
     ]
    }
   ],
   "source": [
    "\n",
    "# Set solver\n",
    "# solver = pyo.SolverFactory('gurobi')\n",
    "# solver = pyo.SolverFactory('glpk')\n",
    "solver = pyo.SolverFactory('cbc')\n",
    "# solver = pyo.SolverFactory('bonmin')\n",
    "\n",
    "# Add your solution here\n",
    "\n",
    "print_solution(milp)"
   ]
  },
  {
   "cell_type": "markdown",
   "metadata": {},
   "source": [
    "## Is rounding good enough?"
   ]
  },
  {
   "cell_type": "markdown",
   "metadata": {},
   "source": [
    "### Linear Program (Relaxation)"
   ]
  },
  {
   "cell_type": "markdown",
   "metadata": {},
   "source": [
    "$$\\begin{align}\\min_{x_1,x_2} \\quad & x_2 \\\\\n",
    "\\mathrm{s.t.} \\quad & 2 x_1 + x_2 \\geq 13 \\\\\n",
    "& 5 x_1 + 2 x_2 \\leq 30 \\\\\n",
    "& -x_1 + x_2 \\geq 5 \\\\\n",
    "& x_1, x_2 \\geq 0\n",
    "\\end{align}$$"
   ]
  },
  {
   "cell_type": "code",
   "execution_count": 12,
   "metadata": {},
   "outputs": [
    {
     "name": "stdout",
     "output_type": "stream",
     "text": [
      "2 Var Declarations\n",
      "    x1 : Size=1, Index=None\n",
      "        Key  : Lower : Value : Upper : Fixed : Stale : Domain\n",
      "        None :     0 :  None :  None : False :  True : NonNegativeReals\n",
      "    x2 : Size=1, Index=None\n",
      "        Key  : Lower : Value : Upper : Fixed : Stale : Domain\n",
      "        None :     0 :  None :  None : False :  True : NonNegativeReals\n",
      "\n",
      "1 Objective Declarations\n",
      "    obj : Size=1, Index=None, Active=True\n",
      "        Key  : Active : Sense    : Expression\n",
      "        None :   True : minimize :         x2\n",
      "\n",
      "3 Constraint Declarations\n",
      "    con1 : Size=1, Index=None, Active=True\n",
      "        Key  : Lower : Body      : Upper : Active\n",
      "        None :  13.0 : 2*x1 + x2 :  +Inf :   True\n",
      "    con2 : Size=1, Index=None, Active=True\n",
      "        Key  : Lower : Body        : Upper : Active\n",
      "        None :  -Inf : 5*x1 + 2*x2 :  30.0 :   True\n",
      "    con3 : Size=1, Index=None, Active=True\n",
      "        Key  : Lower : Body      : Upper : Active\n",
      "        None :   5.0 : - x1 + x2 :  +Inf :   True\n",
      "\n",
      "6 Declarations: x1 x2 con1 con2 con3 obj\n"
     ]
    }
   ],
   "source": [
    "import pyomo.environ as pyo\n",
    "\n",
    "m = pyo.ConcreteModel()\n",
    "\n",
    "# Declare variables with bounds\n",
    "m.x1 = pyo.Var(domain=pyo.NonNegativeReals)\n",
    "m.x2 = pyo.Var(domain=pyo.NonNegativeReals)\n",
    "\n",
    "# Constraint 1\n",
    "m.con1 = pyo.Constraint(expr=2*m.x1 + m.x2 >= 13)\n",
    "\n",
    "# Constraint 2\n",
    "m.con2 = pyo.Constraint(expr=5*m.x1 + 2*m.x2 <= 30)\n",
    "\n",
    "# Constraint 3\n",
    "m.con3 = pyo.Constraint(expr=-m.x1 + m.x2 >= 5)\n",
    "\n",
    "# Objective\n",
    "m.obj = pyo.Objective(expr=m.x2)\n",
    "\n",
    "# Print model\n",
    "m.pprint()"
   ]
  },
  {
   "cell_type": "code",
   "execution_count": 13,
   "metadata": {},
   "outputs": [
    {
     "name": "stdout",
     "output_type": "stream",
     "text": [
      "Welcome to the CBC MILP Solver \n",
      "Version: 2.10.5 \n",
      "Build Date: Apr 19 2021 \n",
      "\n",
      "command line - /Users/adowling/anaconda3/envs/controls/bin/cbc -printingOptions all -import /var/folders/8v/lbvy4xb128d687t1pwzl_cfh0000gp/T/tmp936ikgx2.pyomo.lp -stat=1 -solve -solu /var/folders/8v/lbvy4xb128d687t1pwzl_cfh0000gp/T/tmp936ikgx2.pyomo.soln (default strategy 1)\n",
      "Option for printingOptions changed from normal to all\n",
      "Presolve 3 (0) rows, 2 (0) columns and 6 (0) elements\n",
      "Statistics for presolved model\n",
      "\n",
      "\n",
      "Problem has 3 rows, 2 columns (1 with objective) and 6 elements\n",
      "Column breakdown:\n",
      "2 of type 0.0->inf, 0 of type 0.0->up, 0 of type lo->inf, \n",
      "0 of type lo->up, 0 of type free, 0 of type fixed, \n",
      "0 of type -inf->0.0, 0 of type -inf->up, 0 of type 0.0->1.0 \n",
      "Row breakdown:\n",
      "0 of type E 0.0, 0 of type E 1.0, 0 of type E -1.0, \n",
      "0 of type E other, 0 of type G 0.0, 0 of type G 1.0, \n",
      "2 of type G other, 0 of type L 0.0, 0 of type L 1.0, \n",
      "1 of type L other, 0 of type Range 0.0->1.0, 0 of type Range other, \n",
      "0 of type Free \n",
      "Presolve 3 (0) rows, 2 (0) columns and 6 (0) elements\n",
      "0  Obj 0 Primal inf 11.5 (2)\n",
      "2  Obj 7.6666667\n",
      "Optimal - objective value 7.6666667\n",
      "Optimal objective 7.666666667 - 2 iterations time 0.002\n",
      "Total time (CPU seconds):       0.00   (Wallclock seconds):       0.00\n",
      "\n",
      " \n",
      "x1 =  2.6666667\n",
      "x2 =  7.6666667\n"
     ]
    }
   ],
   "source": [
    "# Set solver\n",
    "# solver = pyo.SolverFactory('gurobi')\n",
    "# solver = pyo.SolverFactory('glpk')\n",
    "# solver = pyo.SolverFactory('ipopt')\\\n",
    "solver = pyo.SolverFactory('cbc')\n",
    "\n",
    "\n",
    "# Solve\n",
    "solver.solve(m,tee=True)\n",
    "\n",
    "# Print solution\n",
    "print(\" \")\n",
    "print(\"x1 = \",pyo.value(m.x1))\n",
    "print(\"x2 = \",pyo.value(m.x2))"
   ]
  },
  {
   "cell_type": "markdown",
   "metadata": {},
   "source": [
    "### Rounding"
   ]
  },
  {
   "cell_type": "markdown",
   "metadata": {},
   "source": [
    "With your neighbor, discuss:\n",
    "* If you round $x_1$ and $x_2$ to an integer, are all of the constraints feasible?\n",
    "* How would you go about checking the optimality of a feasible integer solution?"
   ]
  },
  {
   "cell_type": "markdown",
   "metadata": {},
   "source": [
    "### Integer Program"
   ]
  },
  {
   "cell_type": "markdown",
   "metadata": {},
   "source": [
    "Consider the following integer program:\n",
    "\n",
    "$$\\begin{align}\\min_{x_1,x_2} \\quad & x_2 \\\\\n",
    "\\mathrm{s.t.} \\quad & 2 x_1 + x_2 \\geq 13 \\\\\n",
    "& 5 x_1 + 2 x_2 \\leq 30 \\\\\n",
    "& -x_1 + x_2 \\geq 5 \\\\\n",
    "& x_1, x_2 \\in \\mathcal{Z} := \\{0,1,2,...\\}\n",
    "\\end{align}$$"
   ]
  },
  {
   "cell_type": "code",
   "execution_count": 14,
   "metadata": {},
   "outputs": [
    {
     "name": "stdout",
     "output_type": "stream",
     "text": [
      "2 Var Declarations\n",
      "    x1 : Size=1, Index=None\n",
      "        Key  : Lower : Value : Upper : Fixed : Stale : Domain\n",
      "        None :     1 :  None :  None : False :  True : PositiveIntegers\n",
      "    x2 : Size=1, Index=None\n",
      "        Key  : Lower : Value : Upper : Fixed : Stale : Domain\n",
      "        None :     1 :  None :  None : False :  True : PositiveIntegers\n",
      "\n",
      "1 Objective Declarations\n",
      "    obj : Size=1, Index=None, Active=True\n",
      "        Key  : Active : Sense    : Expression\n",
      "        None :   True : minimize :         x2\n",
      "\n",
      "3 Constraint Declarations\n",
      "    con1 : Size=1, Index=None, Active=True\n",
      "        Key  : Lower : Body      : Upper : Active\n",
      "        None :  13.0 : 2*x1 + x2 :  +Inf :   True\n",
      "    con2 : Size=1, Index=None, Active=True\n",
      "        Key  : Lower : Body        : Upper : Active\n",
      "        None :  -Inf : 5*x1 + 2*x2 :  30.0 :   True\n",
      "    con3 : Size=1, Index=None, Active=True\n",
      "        Key  : Lower : Body      : Upper : Active\n",
      "        None :   5.0 : - x1 + x2 :  +Inf :   True\n",
      "\n",
      "6 Declarations: x1 x2 con1 con2 con3 obj\n"
     ]
    }
   ],
   "source": [
    "m2 = pyo.ConcreteModel()\n",
    "\n",
    "# Declare variables as positive integers\n",
    "m2.x1 = pyo.Var(domain=pyo.PositiveIntegers)\n",
    "m2.x2 = pyo.Var(domain=pyo.PositiveIntegers)\n",
    "\n",
    "# Constraint 1\n",
    "m2.con1 = pyo.Constraint(expr=2*m2.x1 + m2.x2 >= 13)\n",
    "\n",
    "# Constraint 2\n",
    "m2.con2 = pyo.Constraint(expr=5*m2.x1 + 2*m2.x2 <= 30)\n",
    "\n",
    "# Constraint 3\n",
    "m2.con3 = pyo.Constraint(expr=-m2.x1 + m2.x2 >= 5)\n",
    "\n",
    "# Objective\n",
    "m2.obj = pyo.Objective(expr=m2.x2)\n",
    "\n",
    "m2.pprint()"
   ]
  },
  {
   "cell_type": "code",
   "execution_count": 15,
   "metadata": {},
   "outputs": [
    {
     "name": "stdout",
     "output_type": "stream",
     "text": [
      "Welcome to the CBC MILP Solver \n",
      "Version: 2.10.5 \n",
      "Build Date: Apr 19 2021 \n",
      "\n",
      "command line - /Users/adowling/anaconda3/envs/controls/bin/cbc -printingOptions all -import /var/folders/8v/lbvy4xb128d687t1pwzl_cfh0000gp/T/tmpclopbyat.pyomo.lp -stat=1 -solve -solu /var/folders/8v/lbvy4xb128d687t1pwzl_cfh0000gp/T/tmpclopbyat.pyomo.soln (default strategy 1)\n",
      "Option for printingOptions changed from normal to all\n",
      "Presolve 3 (0) rows, 2 (0) columns and 6 (0) elements\n",
      "Statistics for presolved model\n",
      "Original problem has 2 integers (0 of which binary)\n",
      "==== 1 zero objective 2 different\n",
      "1 variables have objective of 0\n",
      "1 variables have objective of 1\n",
      "==== absolute objective values 2 different\n",
      "1 variables have objective of 0\n",
      "1 variables have objective of 1\n",
      "==== for integers 1 zero objective 2 different\n",
      "1 variables have objective of 0\n",
      "1 variables have objective of 1\n",
      "==== for integers absolute objective values 2 different\n",
      "1 variables have objective of 0\n",
      "1 variables have objective of 1\n",
      "===== end objective counts\n",
      "\n",
      "\n",
      "Problem has 3 rows, 2 columns (1 with objective) and 6 elements\n",
      "Column breakdown:\n",
      "0 of type 0.0->inf, 0 of type 0.0->up, 2 of type lo->inf, \n",
      "0 of type lo->up, 0 of type free, 0 of type fixed, \n",
      "0 of type -inf->0.0, 0 of type -inf->up, 0 of type 0.0->1.0 \n",
      "Row breakdown:\n",
      "0 of type E 0.0, 0 of type E 1.0, 0 of type E -1.0, \n",
      "0 of type E other, 0 of type G 0.0, 0 of type G 1.0, \n",
      "2 of type G other, 0 of type L 0.0, 0 of type L 1.0, \n",
      "1 of type L other, 0 of type Range 0.0->1.0, 0 of type Range other, \n",
      "0 of type Free \n",
      "Continuous objective value is 7.66667 - 0.00 seconds\n",
      "Cgl0003I 0 fixed, 1 tightened bounds, 0 strengthened rows, 0 substitutions\n",
      "Cgl0004I processed model has 3 rows, 2 columns (2 integer (0 of which binary)) and 6 elements\n",
      "Cutoff increment increased from 1e-05 to 0.9999\n",
      "Cbc0012I Integer solution of 9 found by DiveCoefficient after 0 iterations and 0 nodes (0.00 seconds)\n",
      "Cbc0006I The LP relaxation is infeasible or too expensive\n",
      "Cbc0013I At root node, 0 cuts changed objective from 7.6666667 to 7.6666667 in 1 passes\n",
      "Cbc0014I Cut generator 0 (Probing) - 0 row cuts average 0.0 elements, 1 column cuts (1 active)  in 0.000 seconds - new frequency is 1\n",
      "Cbc0014I Cut generator 1 (Gomory) - 0 row cuts average 0.0 elements, 0 column cuts (0 active)  in 0.000 seconds - new frequency is -100\n",
      "Cbc0014I Cut generator 2 (Knapsack) - 0 row cuts average 0.0 elements, 0 column cuts (0 active)  in 0.000 seconds - new frequency is -100\n",
      "Cbc0014I Cut generator 3 (Clique) - 0 row cuts average 0.0 elements, 0 column cuts (0 active)  in 0.000 seconds - new frequency is -100\n",
      "Cbc0014I Cut generator 4 (MixedIntegerRounding2) - 0 row cuts average 0.0 elements, 0 column cuts (0 active)  in 0.000 seconds - new frequency is -100\n",
      "Cbc0014I Cut generator 5 (FlowCover) - 0 row cuts average 0.0 elements, 0 column cuts (0 active)  in 0.000 seconds - new frequency is -100\n",
      "Cbc0014I Cut generator 6 (TwoMirCuts) - 0 row cuts average 0.0 elements, 0 column cuts (0 active)  in 0.000 seconds - new frequency is -100\n",
      "Cbc0014I Cut generator 7 (ZeroHalf) - 0 row cuts average 0.0 elements, 0 column cuts (0 active)  in 0.000 seconds - new frequency is -100\n",
      "Cbc0001I Search completed - best objective 9, took 0 iterations and 0 nodes (0.00 seconds)\n",
      "Cbc0035I Maximum depth 0, 0 variables fixed on reduced cost\n",
      "Cuts at root node changed objective from 7.66667 to 7.66667\n",
      "Probing was tried 1 times and created 1 cuts of which 0 were active after adding rounds of cuts (0.000 seconds)\n",
      "Gomory was tried 0 times and created 0 cuts of which 0 were active after adding rounds of cuts (0.000 seconds)\n",
      "Knapsack was tried 0 times and created 0 cuts of which 0 were active after adding rounds of cuts (0.000 seconds)\n",
      "Clique was tried 0 times and created 0 cuts of which 0 were active after adding rounds of cuts (0.000 seconds)\n",
      "MixedIntegerRounding2 was tried 0 times and created 0 cuts of which 0 were active after adding rounds of cuts (0.000 seconds)\n",
      "FlowCover was tried 0 times and created 0 cuts of which 0 were active after adding rounds of cuts (0.000 seconds)\n",
      "TwoMirCuts was tried 0 times and created 0 cuts of which 0 were active after adding rounds of cuts (0.000 seconds)\n",
      "ZeroHalf was tried 0 times and created 0 cuts of which 0 were active after adding rounds of cuts (0.000 seconds)\n",
      "\n",
      "Result - Optimal solution found\n",
      "\n",
      "Objective value:                9.00000000\n",
      "Enumerated nodes:               0\n",
      "Total iterations:               0\n",
      "Time (CPU seconds):             0.00\n",
      "Time (Wallclock seconds):       0.00\n",
      "\n",
      "Total time (CPU seconds):       0.00   (Wallclock seconds):       0.01\n",
      "\n",
      " \n",
      "x1 =  2.0\n",
      "x2 =  9.0\n"
     ]
    }
   ],
   "source": [
    "# Set solver\n",
    "# solver = pyo.SolverFactory('gurobi')\n",
    "# solver = pyo.SolverFactory('glpk')\n",
    "solver = pyo.SolverFactory('cbc')\n",
    "# solver = pyo.SolverFactory('bonmin')\n",
    "\n",
    "# Solve\n",
    "solver.solve(m2,tee=True)\n",
    "\n",
    "# Print solution\n",
    "print(\" \")\n",
    "print(\"x1 = \",m2.x1())\n",
    "print(\"x2 = \",m2.x2())"
   ]
  },
  {
   "cell_type": "markdown",
   "metadata": {},
   "source": [
    "### Why rounding does not always work"
   ]
  },
  {
   "cell_type": "markdown",
   "metadata": {},
   "source": [
    "Reference: http://personal.lse.ac.uk/williahp/publications/wp%2010-118.pdf"
   ]
  },
  {
   "cell_type": "markdown",
   "metadata": {},
   "source": [
    "![feasible](https://raw.githubusercontent.com/ndcbe/optimization/main/media/feasible.png)"
   ]
  },
  {
   "cell_type": "markdown",
   "metadata": {},
   "source": []
  }
 ],
 "metadata": {
  "kernelspec": {
   "display_name": "controls",
   "language": "python",
   "name": "python3"
  },
  "language_info": {
   "codemirror_mode": {
    "name": "ipython",
    "version": 3
   },
   "file_extension": ".py",
   "mimetype": "text/x-python",
   "name": "python",
   "nbconvert_exporter": "python",
   "pygments_lexer": "ipython3",
   "version": "3.10.13"
  }
 },
 "nbformat": 4,
 "nbformat_minor": 2
}
