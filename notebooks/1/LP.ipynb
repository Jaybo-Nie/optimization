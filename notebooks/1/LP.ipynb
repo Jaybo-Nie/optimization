{
  "cells": [
    {
      "cell_type": "markdown",
      "metadata": {
        "id": "kc74s0NBHiP9"
      },
      "source": [
        "# Continuous Optimization: Linear Programming"
      ]
    },
    {
      "cell_type": "code",
      "execution_count": 11,
      "metadata": {
        "id": "iOwD_urdHiP9",
        "outputId": "c1362c0c-962b-4177-bb19-bb0ba1a49a60",
        "colab": {
          "base_uri": "https://localhost:8080/"
        }
      },
      "outputs": [
        {
          "output_type": "stream",
          "name": "stdout",
          "text": [
            "--2024-10-28 03:14:30--  https://raw.githubusercontent.com/ndcbe/optimization/main/notebooks/helper.py\n",
            "Resolving raw.githubusercontent.com (raw.githubusercontent.com)... 185.199.108.133, 185.199.109.133, 185.199.110.133, ...\n",
            "Connecting to raw.githubusercontent.com (raw.githubusercontent.com)|185.199.108.133|:443... connected.\n",
            "HTTP request sent, awaiting response... 200 OK\n",
            "Length: 6493 (6.3K) [text/plain]\n",
            "Saving to: ‘helper.py.1’\n",
            "\n",
            "helper.py.1         100%[===================>]   6.34K  --.-KB/s    in 0s      \n",
            "\n",
            "2024-10-28 03:14:30 (55.9 MB/s) - ‘helper.py.1’ saved [6493/6493]\n",
            "\n",
            "idaes was found! No need to install.\n"
          ]
        }
      ],
      "source": [
        "# This code cell installs packages on Colab\n",
        "\n",
        "import sys\n",
        "if \"google.colab\" in sys.modules:\n",
        "    !wget \"https://raw.githubusercontent.com/ndcbe/optimization/main/notebooks/helper.py\"\n",
        "    import helper\n",
        "    helper.easy_install()\n",
        "else:\n",
        "    sys.path.insert(0, '../')\n",
        "    import helper\n",
        "helper.set_plotting_style()"
      ]
    },
    {
      "cell_type": "code",
      "execution_count": 12,
      "metadata": {
        "id": "hXBC9ZfTHiP-"
      },
      "outputs": [],
      "source": [
        "import pandas as pd\n",
        "import pyomo.environ as pyo\n",
        "import idaes"
      ]
    },
    {
      "cell_type": "markdown",
      "metadata": {
        "id": "pRzrsU3AHiP-"
      },
      "source": [
        "## Linear Programs: Student Diet Example"
      ]
    },
    {
      "cell_type": "markdown",
      "metadata": {
        "id": "-iebinNOHiP-"
      },
      "source": [
        "Reference: https://docs.mosek.com/modeling-cookbook/linear.html"
      ]
    },
    {
      "cell_type": "markdown",
      "metadata": {
        "id": "ZUykMLMNHiP-"
      },
      "source": [
        "You want to save money eating while remaining healthy. A healthy diet requires at least P=6 units of protein, C=15 units of carbohydrates, F=5 units of fats and V=7 units of vitamins. Due to compounding factors (blizzard during Lent), our campus only has these options:"
      ]
    },
    {
      "cell_type": "code",
      "execution_count": 13,
      "metadata": {
        "id": "YolPo4qnHiP-",
        "outputId": "bdd33827-6c0d-4930-9afe-863a6e97c1e7",
        "colab": {
          "base_uri": "https://localhost:8080/",
          "height": 142
        }
      },
      "outputs": [
        {
          "output_type": "execute_result",
          "data": {
            "text/plain": [
              "              P  C  F  V  price\n",
              "takeaway    3.0  3  2  1      5\n",
              "vegetables  1.0  2  0  4      1\n",
              "bread       0.5  4  1  0      2"
            ],
            "text/html": [
              "\n",
              "  <div id=\"df-a0bfac2f-8cac-4249-80f1-ffd05a0143b8\" class=\"colab-df-container\">\n",
              "    <div>\n",
              "<style scoped>\n",
              "    .dataframe tbody tr th:only-of-type {\n",
              "        vertical-align: middle;\n",
              "    }\n",
              "\n",
              "    .dataframe tbody tr th {\n",
              "        vertical-align: top;\n",
              "    }\n",
              "\n",
              "    .dataframe thead th {\n",
              "        text-align: right;\n",
              "    }\n",
              "</style>\n",
              "<table border=\"1\" class=\"dataframe\">\n",
              "  <thead>\n",
              "    <tr style=\"text-align: right;\">\n",
              "      <th></th>\n",
              "      <th>P</th>\n",
              "      <th>C</th>\n",
              "      <th>F</th>\n",
              "      <th>V</th>\n",
              "      <th>price</th>\n",
              "    </tr>\n",
              "  </thead>\n",
              "  <tbody>\n",
              "    <tr>\n",
              "      <th>takeaway</th>\n",
              "      <td>3.0</td>\n",
              "      <td>3</td>\n",
              "      <td>2</td>\n",
              "      <td>1</td>\n",
              "      <td>5</td>\n",
              "    </tr>\n",
              "    <tr>\n",
              "      <th>vegetables</th>\n",
              "      <td>1.0</td>\n",
              "      <td>2</td>\n",
              "      <td>0</td>\n",
              "      <td>4</td>\n",
              "      <td>1</td>\n",
              "    </tr>\n",
              "    <tr>\n",
              "      <th>bread</th>\n",
              "      <td>0.5</td>\n",
              "      <td>4</td>\n",
              "      <td>1</td>\n",
              "      <td>0</td>\n",
              "      <td>2</td>\n",
              "    </tr>\n",
              "  </tbody>\n",
              "</table>\n",
              "</div>\n",
              "    <div class=\"colab-df-buttons\">\n",
              "\n",
              "  <div class=\"colab-df-container\">\n",
              "    <button class=\"colab-df-convert\" onclick=\"convertToInteractive('df-a0bfac2f-8cac-4249-80f1-ffd05a0143b8')\"\n",
              "            title=\"Convert this dataframe to an interactive table.\"\n",
              "            style=\"display:none;\">\n",
              "\n",
              "  <svg xmlns=\"http://www.w3.org/2000/svg\" height=\"24px\" viewBox=\"0 -960 960 960\">\n",
              "    <path d=\"M120-120v-720h720v720H120Zm60-500h600v-160H180v160Zm220 220h160v-160H400v160Zm0 220h160v-160H400v160ZM180-400h160v-160H180v160Zm440 0h160v-160H620v160ZM180-180h160v-160H180v160Zm440 0h160v-160H620v160Z\"/>\n",
              "  </svg>\n",
              "    </button>\n",
              "\n",
              "  <style>\n",
              "    .colab-df-container {\n",
              "      display:flex;\n",
              "      gap: 12px;\n",
              "    }\n",
              "\n",
              "    .colab-df-convert {\n",
              "      background-color: #E8F0FE;\n",
              "      border: none;\n",
              "      border-radius: 50%;\n",
              "      cursor: pointer;\n",
              "      display: none;\n",
              "      fill: #1967D2;\n",
              "      height: 32px;\n",
              "      padding: 0 0 0 0;\n",
              "      width: 32px;\n",
              "    }\n",
              "\n",
              "    .colab-df-convert:hover {\n",
              "      background-color: #E2EBFA;\n",
              "      box-shadow: 0px 1px 2px rgba(60, 64, 67, 0.3), 0px 1px 3px 1px rgba(60, 64, 67, 0.15);\n",
              "      fill: #174EA6;\n",
              "    }\n",
              "\n",
              "    .colab-df-buttons div {\n",
              "      margin-bottom: 4px;\n",
              "    }\n",
              "\n",
              "    [theme=dark] .colab-df-convert {\n",
              "      background-color: #3B4455;\n",
              "      fill: #D2E3FC;\n",
              "    }\n",
              "\n",
              "    [theme=dark] .colab-df-convert:hover {\n",
              "      background-color: #434B5C;\n",
              "      box-shadow: 0px 1px 3px 1px rgba(0, 0, 0, 0.15);\n",
              "      filter: drop-shadow(0px 1px 2px rgba(0, 0, 0, 0.3));\n",
              "      fill: #FFFFFF;\n",
              "    }\n",
              "  </style>\n",
              "\n",
              "    <script>\n",
              "      const buttonEl =\n",
              "        document.querySelector('#df-a0bfac2f-8cac-4249-80f1-ffd05a0143b8 button.colab-df-convert');\n",
              "      buttonEl.style.display =\n",
              "        google.colab.kernel.accessAllowed ? 'block' : 'none';\n",
              "\n",
              "      async function convertToInteractive(key) {\n",
              "        const element = document.querySelector('#df-a0bfac2f-8cac-4249-80f1-ffd05a0143b8');\n",
              "        const dataTable =\n",
              "          await google.colab.kernel.invokeFunction('convertToInteractive',\n",
              "                                                    [key], {});\n",
              "        if (!dataTable) return;\n",
              "\n",
              "        const docLinkHtml = 'Like what you see? Visit the ' +\n",
              "          '<a target=\"_blank\" href=https://colab.research.google.com/notebooks/data_table.ipynb>data table notebook</a>'\n",
              "          + ' to learn more about interactive tables.';\n",
              "        element.innerHTML = '';\n",
              "        dataTable['output_type'] = 'display_data';\n",
              "        await google.colab.output.renderOutput(dataTable, element);\n",
              "        const docLink = document.createElement('div');\n",
              "        docLink.innerHTML = docLinkHtml;\n",
              "        element.appendChild(docLink);\n",
              "      }\n",
              "    </script>\n",
              "  </div>\n",
              "\n",
              "\n",
              "<div id=\"df-4bb3348b-2fb9-4856-87ea-59dc319923ad\">\n",
              "  <button class=\"colab-df-quickchart\" onclick=\"quickchart('df-4bb3348b-2fb9-4856-87ea-59dc319923ad')\"\n",
              "            title=\"Suggest charts\"\n",
              "            style=\"display:none;\">\n",
              "\n",
              "<svg xmlns=\"http://www.w3.org/2000/svg\" height=\"24px\"viewBox=\"0 0 24 24\"\n",
              "     width=\"24px\">\n",
              "    <g>\n",
              "        <path d=\"M19 3H5c-1.1 0-2 .9-2 2v14c0 1.1.9 2 2 2h14c1.1 0 2-.9 2-2V5c0-1.1-.9-2-2-2zM9 17H7v-7h2v7zm4 0h-2V7h2v10zm4 0h-2v-4h2v4z\"/>\n",
              "    </g>\n",
              "</svg>\n",
              "  </button>\n",
              "\n",
              "<style>\n",
              "  .colab-df-quickchart {\n",
              "      --bg-color: #E8F0FE;\n",
              "      --fill-color: #1967D2;\n",
              "      --hover-bg-color: #E2EBFA;\n",
              "      --hover-fill-color: #174EA6;\n",
              "      --disabled-fill-color: #AAA;\n",
              "      --disabled-bg-color: #DDD;\n",
              "  }\n",
              "\n",
              "  [theme=dark] .colab-df-quickchart {\n",
              "      --bg-color: #3B4455;\n",
              "      --fill-color: #D2E3FC;\n",
              "      --hover-bg-color: #434B5C;\n",
              "      --hover-fill-color: #FFFFFF;\n",
              "      --disabled-bg-color: #3B4455;\n",
              "      --disabled-fill-color: #666;\n",
              "  }\n",
              "\n",
              "  .colab-df-quickchart {\n",
              "    background-color: var(--bg-color);\n",
              "    border: none;\n",
              "    border-radius: 50%;\n",
              "    cursor: pointer;\n",
              "    display: none;\n",
              "    fill: var(--fill-color);\n",
              "    height: 32px;\n",
              "    padding: 0;\n",
              "    width: 32px;\n",
              "  }\n",
              "\n",
              "  .colab-df-quickchart:hover {\n",
              "    background-color: var(--hover-bg-color);\n",
              "    box-shadow: 0 1px 2px rgba(60, 64, 67, 0.3), 0 1px 3px 1px rgba(60, 64, 67, 0.15);\n",
              "    fill: var(--button-hover-fill-color);\n",
              "  }\n",
              "\n",
              "  .colab-df-quickchart-complete:disabled,\n",
              "  .colab-df-quickchart-complete:disabled:hover {\n",
              "    background-color: var(--disabled-bg-color);\n",
              "    fill: var(--disabled-fill-color);\n",
              "    box-shadow: none;\n",
              "  }\n",
              "\n",
              "  .colab-df-spinner {\n",
              "    border: 2px solid var(--fill-color);\n",
              "    border-color: transparent;\n",
              "    border-bottom-color: var(--fill-color);\n",
              "    animation:\n",
              "      spin 1s steps(1) infinite;\n",
              "  }\n",
              "\n",
              "  @keyframes spin {\n",
              "    0% {\n",
              "      border-color: transparent;\n",
              "      border-bottom-color: var(--fill-color);\n",
              "      border-left-color: var(--fill-color);\n",
              "    }\n",
              "    20% {\n",
              "      border-color: transparent;\n",
              "      border-left-color: var(--fill-color);\n",
              "      border-top-color: var(--fill-color);\n",
              "    }\n",
              "    30% {\n",
              "      border-color: transparent;\n",
              "      border-left-color: var(--fill-color);\n",
              "      border-top-color: var(--fill-color);\n",
              "      border-right-color: var(--fill-color);\n",
              "    }\n",
              "    40% {\n",
              "      border-color: transparent;\n",
              "      border-right-color: var(--fill-color);\n",
              "      border-top-color: var(--fill-color);\n",
              "    }\n",
              "    60% {\n",
              "      border-color: transparent;\n",
              "      border-right-color: var(--fill-color);\n",
              "    }\n",
              "    80% {\n",
              "      border-color: transparent;\n",
              "      border-right-color: var(--fill-color);\n",
              "      border-bottom-color: var(--fill-color);\n",
              "    }\n",
              "    90% {\n",
              "      border-color: transparent;\n",
              "      border-bottom-color: var(--fill-color);\n",
              "    }\n",
              "  }\n",
              "</style>\n",
              "\n",
              "  <script>\n",
              "    async function quickchart(key) {\n",
              "      const quickchartButtonEl =\n",
              "        document.querySelector('#' + key + ' button');\n",
              "      quickchartButtonEl.disabled = true;  // To prevent multiple clicks.\n",
              "      quickchartButtonEl.classList.add('colab-df-spinner');\n",
              "      try {\n",
              "        const charts = await google.colab.kernel.invokeFunction(\n",
              "            'suggestCharts', [key], {});\n",
              "      } catch (error) {\n",
              "        console.error('Error during call to suggestCharts:', error);\n",
              "      }\n",
              "      quickchartButtonEl.classList.remove('colab-df-spinner');\n",
              "      quickchartButtonEl.classList.add('colab-df-quickchart-complete');\n",
              "    }\n",
              "    (() => {\n",
              "      let quickchartButtonEl =\n",
              "        document.querySelector('#df-4bb3348b-2fb9-4856-87ea-59dc319923ad button');\n",
              "      quickchartButtonEl.style.display =\n",
              "        google.colab.kernel.accessAllowed ? 'block' : 'none';\n",
              "    })();\n",
              "  </script>\n",
              "</div>\n",
              "\n",
              "    </div>\n",
              "  </div>\n"
            ],
            "application/vnd.google.colaboratory.intrinsic+json": {
              "type": "dataframe",
              "variable_name": "food_options",
              "summary": "{\n  \"name\": \"food_options\",\n  \"rows\": 3,\n  \"fields\": [\n    {\n      \"column\": \"P\",\n      \"properties\": {\n        \"dtype\": \"number\",\n        \"std\": 1.3228756555322954,\n        \"min\": 0.5,\n        \"max\": 3.0,\n        \"num_unique_values\": 3,\n        \"samples\": [\n          3.0,\n          1.0,\n          0.5\n        ],\n        \"semantic_type\": \"\",\n        \"description\": \"\"\n      }\n    },\n    {\n      \"column\": \"C\",\n      \"properties\": {\n        \"dtype\": \"number\",\n        \"std\": 1,\n        \"min\": 2,\n        \"max\": 4,\n        \"num_unique_values\": 3,\n        \"samples\": [\n          3,\n          2,\n          4\n        ],\n        \"semantic_type\": \"\",\n        \"description\": \"\"\n      }\n    },\n    {\n      \"column\": \"F\",\n      \"properties\": {\n        \"dtype\": \"number\",\n        \"std\": 1,\n        \"min\": 0,\n        \"max\": 2,\n        \"num_unique_values\": 3,\n        \"samples\": [\n          2,\n          0,\n          1\n        ],\n        \"semantic_type\": \"\",\n        \"description\": \"\"\n      }\n    },\n    {\n      \"column\": \"V\",\n      \"properties\": {\n        \"dtype\": \"number\",\n        \"std\": 2,\n        \"min\": 0,\n        \"max\": 4,\n        \"num_unique_values\": 3,\n        \"samples\": [\n          1,\n          4,\n          0\n        ],\n        \"semantic_type\": \"\",\n        \"description\": \"\"\n      }\n    },\n    {\n      \"column\": \"price\",\n      \"properties\": {\n        \"dtype\": \"number\",\n        \"std\": 2,\n        \"min\": 1,\n        \"max\": 5,\n        \"num_unique_values\": 3,\n        \"samples\": [\n          5,\n          1,\n          2\n        ],\n        \"semantic_type\": \"\",\n        \"description\": \"\"\n      }\n    }\n  ]\n}"
            }
          },
          "metadata": {},
          "execution_count": 13
        }
      ],
      "source": [
        "# Load data from file, use the first column (0, recall Python starts counting at 0) as the index\n",
        "food_options = pd.read_csv('https://raw.githubusercontent.com/ndcbe/optimization/main/notebooks/data/student_diet.csv',index_col=0)\n",
        "\n",
        "# Print up the the first 10 rows of data\n",
        "food_options.head(10)"
      ]
    },
    {
      "cell_type": "markdown",
      "metadata": {
        "id": "6KWL7KPIHiP-"
      },
      "source": [
        "Let's build a Python dictionary to store the nutrient requirements. (I strongly recommend not touching Python until we write the model on paper. I am including this here to avoid scrolling between the problem description and this cell.)"
      ]
    },
    {
      "cell_type": "code",
      "execution_count": 20,
      "metadata": {
        "id": "A18mWe3sHiP-"
      },
      "outputs": [],
      "source": [
        "# Uncomment and fill in with all of the data\n",
        "nutrient_requirements = {'P':6, 'C':15 }\n",
        "\n",
        "# Add your solution here"
      ]
    },
    {
      "cell_type": "markdown",
      "metadata": {
        "id": "g3TfFxh1HiP-"
      },
      "source": [
        "### Propose an Optimization Model"
      ]
    },
    {
      "cell_type": "markdown",
      "metadata": {
        "id": "7BzDNOB6HiP-"
      },
      "source": [
        "**Sets**\n",
        "\n",
        "```{dropdown} Click to expand\n",
        "$$\n",
        "\\mathcal{F} = \\{\\text{take away, veggies, bread}\\}\n",
        "$$\n",
        "\n",
        "$$\n",
        "\\mathcal{N} = \\{P, C, F, V\\}\n",
        "$$\n",
        "```"
      ]
    },
    {
      "cell_type": "markdown",
      "metadata": {
        "id": "TZJ4uroXHiP-"
      },
      "source": [
        "**Parameters**\n",
        "\n",
        "```{dropdown} Click to expand\n",
        "$\\pi_i$: price for food option $i \\in \\mathcal{F}$\n",
        "\n",
        "$r_j$: nutrition requirement for nutrient $j \\in \\mathcal{N}$\n",
        "\n",
        "$D_{ij}$: nutrition info for food $i \\in \\mathcal{F}$ and nutrient $j \\in \\mathcal{N}$\n",
        "\n",
        "```"
      ]
    },
    {
      "cell_type": "markdown",
      "metadata": {
        "id": "OCZmBQnyHiP-"
      },
      "source": [
        "**Variables**\n",
        "\n",
        "```{dropdown} Click to expand\n",
        "$x_i$: amount of food $i \\in \\mathcal{F}$ eaten/purchased\n",
        "```"
      ]
    },
    {
      "cell_type": "markdown",
      "metadata": {
        "id": "j5od0xVSHiP-"
      },
      "source": [
        "**Objective and Constraints**\n",
        "\n",
        "```{dropdown} Click to expand\n",
        "\n",
        "Minimize:\n",
        "$\n",
        "\\sum_{i \\in \\mathcal{F}} x_i \\cdot \\pi_i \\quad \\text{(cost)}\n",
        "$\n",
        "\n",
        "Subject to:\n",
        "$\n",
        "\\sum_{i \\in \\mathcal{F}} D_{ij} \\cdot x_i \\geq r_j \\quad \\forall j \\in \\mathcal{N} \\quad \\text{(be healthy)}\n",
        "$\n",
        "\n",
        "Bounds:\n",
        "$\n",
        "x_i \\geq 0 \\quad \\forall i \\in \\mathcal{F}\n",
        "$\n",
        "```"
      ]
    },
    {
      "cell_type": "markdown",
      "metadata": {
        "id": "T5ftVA6qHiP-"
      },
      "source": [
        "**Full Model**\n",
        "\n",
        "Let's put all of the components together into the full model written in compact notation.\n",
        "\n",
        "$$\n",
        "\\begin{align*}\n",
        "\\min_{x} \\quad & \\sum_{i \\in \\mathcal{F}} x_i \\cdot \\pi_i & \\text{(cost)} \\\\\n",
        "\\text{s.t.} \\quad & \\sum_{i \\in \\mathcal{F}} D_{ij} \\cdot x_i \\geq r_j, \\quad \\forall j \\in \\mathcal{N} & \\text{(be healthy)} \\\\\n",
        "& x_i \\geq 0, \\quad \\forall i \\in \\mathcal{F} & \\text{(non-negative bounds)}\n",
        "\\end{align*}\n",
        "$$"
      ]
    },
    {
      "cell_type": "markdown",
      "metadata": {
        "id": "shaT3aiXHiP-"
      },
      "source": [
        "**Degree of Freedom Analysis**\n",
        "\n",
        "We will later learn more about how to factor inequality constraints into degree of freedom analysis. For now, please count the number of equality and inequality constraints separately.\n",
        "\n",
        "```{dropdown} Click to expand\n",
        "\n",
        "Continuous variables: 3\n",
        "\n",
        "Inequality constraints: 4\n",
        "\n",
        "Bounds: 3\n",
        "```\n",
        "\n",
        "*Question:* Why is it okay to have more inequality constraints than variables?\n",
        "\n",
        "*Answer:* Not all inequality constraints may be active at a time."
      ]
    },
    {
      "cell_type": "markdown",
      "metadata": {
        "id": "T5lF_62iHiP_"
      },
      "source": [
        "### Solve in Pyomo"
      ]
    },
    {
      "cell_type": "markdown",
      "metadata": {
        "id": "T1_V1fGvHiP_"
      },
      "source": [
        "With our optimization model written on paper, we can proceed to solve in Pyomo. Before we start, let's review a few pandas tricks."
      ]
    },
    {
      "cell_type": "code",
      "execution_count": 14,
      "metadata": {
        "id": "YNrSWF3gHiP_",
        "outputId": "75c3d506-1399-42fe-e59d-5ec6d53da9a6",
        "colab": {
          "base_uri": "https://localhost:8080/"
        }
      },
      "outputs": [
        {
          "output_type": "execute_result",
          "data": {
            "text/plain": [
              "['P', 'C', 'F', 'V', 'price']"
            ]
          },
          "metadata": {},
          "execution_count": 14
        }
      ],
      "source": [
        "# Extract the column names, convert to a list\n",
        "food_options.columns.to_list()"
      ]
    },
    {
      "cell_type": "code",
      "execution_count": 15,
      "metadata": {
        "id": "6KD_HHOGHiP_",
        "outputId": "e3739e80-0b99-467d-aed7-d5e1907041e4",
        "colab": {
          "base_uri": "https://localhost:8080/"
        }
      },
      "outputs": [
        {
          "output_type": "execute_result",
          "data": {
            "text/plain": [
              "['P', 'C', 'F', 'V']"
            ]
          },
          "metadata": {},
          "execution_count": 15
        }
      ],
      "source": [
        "# Same as above, but drop the last entry\n",
        "nutrients = food_options.columns.to_list()[0:4]\n",
        "nutrients"
      ]
    },
    {
      "cell_type": "code",
      "execution_count": 16,
      "metadata": {
        "id": "W87uh_iWHiP_",
        "outputId": "466e4b68-b252-4ae3-f237-7000ea79d9f7",
        "colab": {
          "base_uri": "https://localhost:8080/"
        }
      },
      "outputs": [
        {
          "output_type": "execute_result",
          "data": {
            "text/plain": [
              "['takeaway', 'vegetables', 'bread']"
            ]
          },
          "metadata": {},
          "execution_count": 16
        }
      ],
      "source": [
        "# Extract the index names, convert to a list\n",
        "foods = food_options.index.to_list()\n",
        "foods"
      ]
    },
    {
      "cell_type": "code",
      "execution_count": 17,
      "metadata": {
        "id": "13ajDrOEHiP_",
        "outputId": "14fbd8d9-67f8-495e-8663-d5ffb2ce30f3",
        "colab": {
          "base_uri": "https://localhost:8080/"
        }
      },
      "outputs": [
        {
          "output_type": "execute_result",
          "data": {
            "text/plain": [
              "{('takeaway', 'P'): 3.0,\n",
              " ('takeaway', 'C'): 3.0,\n",
              " ('takeaway', 'F'): 2.0,\n",
              " ('takeaway', 'V'): 1.0,\n",
              " ('vegetables', 'P'): 1.0,\n",
              " ('vegetables', 'C'): 2.0,\n",
              " ('vegetables', 'F'): 0.0,\n",
              " ('vegetables', 'V'): 4.0,\n",
              " ('bread', 'P'): 0.5,\n",
              " ('bread', 'C'): 4.0,\n",
              " ('bread', 'F'): 1.0,\n",
              " ('bread', 'V'): 0.0}"
            ]
          },
          "metadata": {},
          "execution_count": 17
        }
      ],
      "source": [
        "# Create a dictionary with keys such as ('takeaway', 'P')\n",
        "# Do not include 'price'\n",
        "food_info = food_options[nutrients].stack().to_dict()\n",
        "food_info"
      ]
    },
    {
      "cell_type": "code",
      "execution_count": 18,
      "metadata": {
        "id": "IKVLIruTHiP_",
        "outputId": "aba15905-f3dd-4144-c7bf-bb6bfd86426e",
        "colab": {
          "base_uri": "https://localhost:8080/"
        }
      },
      "outputs": [
        {
          "output_type": "execute_result",
          "data": {
            "text/plain": [
              "{'takeaway': 5, 'vegetables': 1, 'bread': 2}"
            ]
          },
          "metadata": {},
          "execution_count": 18
        }
      ],
      "source": [
        "# Create dictionary of only prices\n",
        "price = food_options['price'].to_dict()\n",
        "price"
      ]
    },
    {
      "cell_type": "code",
      "source": [
        "\n",
        "# Define nutrient requirements (ensure all nutrients are covered)\n",
        "nutrient_requirements = {\n",
        "    'P': 6,    # Protein requirement\n",
        "    'C': 15,   # Carbohydrates requirement\n",
        "    'F': 8,    # Fats requirement\n",
        "    'V': 10    # Vitamins requirement\n",
        "}\n",
        "\n"
      ],
      "metadata": {
        "id": "tQ4jW3goIt1q"
      },
      "execution_count": 22,
      "outputs": []
    },
    {
      "cell_type": "markdown",
      "metadata": {
        "id": "AHnliD3fHiP_"
      },
      "source": [
        "Now let's build our Pyomo model!"
      ]
    },
    {
      "cell_type": "code",
      "execution_count": 23,
      "metadata": {
        "id": "8JnZufbBHiP_",
        "outputId": "d0bb7c94-f074-4e4c-bbb6-04bae0bab358",
        "colab": {
          "base_uri": "https://localhost:8080/"
        }
      },
      "outputs": [
        {
          "output_type": "stream",
          "name": "stdout",
          "text": [
            "2 Set Declarations\n",
            "    FOOD : Size=1, Index=None, Ordered=Insertion\n",
            "        Key  : Dimen : Domain : Size : Members\n",
            "        None :     1 :    Any :    3 : {'takeaway', 'vegetables', 'bread'}\n",
            "    NUTRIENTS : Size=1, Index=None, Ordered=Insertion\n",
            "        Key  : Dimen : Domain : Size : Members\n",
            "        None :     1 :    Any :    4 : {'P', 'C', 'F', 'V'}\n",
            "\n",
            "3 Param Declarations\n",
            "    food_info : Size=12, Index=FOOD*NUTRIENTS, Domain=Any, Default=None, Mutable=False\n",
            "        Key                 : Value\n",
            "             ('bread', 'C') :   4.0\n",
            "             ('bread', 'F') :   1.0\n",
            "             ('bread', 'P') :   0.5\n",
            "             ('bread', 'V') :   0.0\n",
            "          ('takeaway', 'C') :   3.0\n",
            "          ('takeaway', 'F') :   2.0\n",
            "          ('takeaway', 'P') :   3.0\n",
            "          ('takeaway', 'V') :   1.0\n",
            "        ('vegetables', 'C') :   2.0\n",
            "        ('vegetables', 'F') :   0.0\n",
            "        ('vegetables', 'P') :   1.0\n",
            "        ('vegetables', 'V') :   4.0\n",
            "    needs : Size=4, Index=NUTRIENTS, Domain=Any, Default=None, Mutable=False\n",
            "        Key : Value\n",
            "          C :    15\n",
            "          F :     8\n",
            "          P :     6\n",
            "          V :    10\n",
            "    price : Size=3, Index=FOOD, Domain=Any, Default=None, Mutable=False\n",
            "        Key        : Value\n",
            "             bread :     2\n",
            "          takeaway :     5\n",
            "        vegetables :     1\n",
            "\n",
            "1 Var Declarations\n",
            "    food_eaten : Size=3, Index=FOOD\n",
            "        Key        : Lower : Value : Upper : Fixed : Stale : Domain\n",
            "             bread :     0 :   1.0 :  None : False : False : NonNegativeReals\n",
            "          takeaway :     0 :   1.0 :  None : False : False : NonNegativeReals\n",
            "        vegetables :     0 :   1.0 :  None : False : False : NonNegativeReals\n",
            "\n",
            "1 Objective Declarations\n",
            "    cost : Size=1, Index=None, Active=True\n",
            "        Key  : Active : Sense    : Expression\n",
            "        None :   True : minimize : 5*food_eaten[takeaway] + food_eaten[vegetables] + 2*food_eaten[bread]\n",
            "\n",
            "1 Constraint Declarations\n",
            "    diet_min : Size=4, Index=NUTRIENTS, Active=True\n",
            "        Key : Lower : Body                                                                          : Upper : Active\n",
            "          C :  15.0 : 3.0*food_eaten[takeaway] + 2.0*food_eaten[vegetables] + 4.0*food_eaten[bread] :  +Inf :   True\n",
            "          F :   8.0 :     2.0*food_eaten[takeaway] + 0.0*food_eaten[vegetables] + food_eaten[bread] :  +Inf :   True\n",
            "          P :   6.0 :     3.0*food_eaten[takeaway] + food_eaten[vegetables] + 0.5*food_eaten[bread] :  +Inf :   True\n",
            "          V :  10.0 :     food_eaten[takeaway] + 4.0*food_eaten[vegetables] + 0.0*food_eaten[bread] :  +Inf :   True\n",
            "\n",
            "8 Declarations: FOOD NUTRIENTS needs food_info price food_eaten diet_min cost\n"
          ]
        }
      ],
      "source": [
        "# Add your solution here\n",
        "m = pyo.ConcreteModel()\n",
        "\n",
        "## Define sets\n",
        "m.FOOD = pyo.Set(initialize = foods)\n",
        "m.NUTRIENTS = pyo.Set(initialize = nutrients)\n",
        "\n",
        "## Define parameters\n",
        "m.needs = pyo.Param(m.NUTRIENTS, initialize=nutrient_requirements)\n",
        "m.food_info = pyo.Param(m.FOOD, m.NUTRIENTS, initialize=food_info)\n",
        "m.price = pyo.Param(m.FOOD, initialize=price)\n",
        "\n",
        "## Define variables\n",
        "m.food_eaten = pyo.Var(m.FOOD,initialize=1.0,domain=pyo.NonNegativeReals)\n",
        "\n",
        "## Define constraints\n",
        "def diet_min_rule(m, n):\n",
        "    return sum(m.food_info[f,n] * m.food_eaten[f] for f in m.FOOD) >= m.needs[n]\n",
        "\n",
        "m.diet_min = pyo.Constraint(m.NUTRIENTS, rule=diet_min_rule)\n",
        "\n",
        "## Define objective\n",
        "m.cost = pyo.Objective(expr=sum(m.food_eaten[f]*m.price[f] for f in m.FOOD), sense=pyo.minimize)\n",
        "\n",
        "# Print model\n",
        "m.pprint()"
      ]
    },
    {
      "cell_type": "markdown",
      "metadata": {
        "id": "nkFkH2lFHiP_"
      },
      "source": [
        "```{dropdown} Click to see the solution to the activity\n",
        "\n",
        "```python\n",
        "m = pyo.ConcreteModel()\n",
        "\n",
        "## Define sets\n",
        "m.FOOD = pyo.Set(initialize = foods)\n",
        "m.NUTRIENTS = pyo.Set(initialize = nutrients)\n",
        "\n",
        "## Define parameters\n",
        "m.needs = pyo.Param(m.NUTRIENTS, initialize=nutrient_requirements)\n",
        "m.food_info = pyo.Param(m.FOOD, m.NUTRIENTS, initialize=food_info)\n",
        "m.price = pyo.Param(m.FOOD, initialize=price)\n",
        "\n",
        "## Define variables\n",
        "m.food_eaten = pyo.Var(m.FOOD,initialize=1.0,domain=pyo.NonNegativeReals)\n",
        "\n",
        "## Define constraints\n",
        "def diet_min_rule(m, n):\n",
        "    return sum(m.food_info[f,n] * m.food_eaten[f] for f in m.FOOD) >= m.needs[n]\n",
        "\n",
        "m.diet_min = pyo.Constraint(m.NUTRIENTS, rule=diet_min_rule)\n",
        "\n",
        "## Define objective\n",
        "m.cost = pyo.Objective(expr=sum(m.food_eaten[f]*m.price[f] for f in m.FOOD), sense=pyo.minimize)\n",
        "\n",
        "# Print model\n",
        "m.pprint()"
      ]
    },
    {
      "cell_type": "markdown",
      "metadata": {
        "id": "nOUvp59NHiP_"
      },
      "source": [
        "<div class=\"admonition note\">\n",
        "<p class=\"title\"><b>Activity</b></p>\n",
        " Check the Pyomo model. Specifically, are the input (parameter) data correct? Do the equations match our model written on paper?\n",
        "</div>"
      ]
    },
    {
      "cell_type": "code",
      "execution_count": 24,
      "metadata": {
        "id": "_ci7hJCuHiP_",
        "outputId": "83b2c639-fc05-4b69-dc5a-dccdf27d0edb",
        "colab": {
          "base_uri": "https://localhost:8080/"
        }
      },
      "outputs": [
        {
          "output_type": "stream",
          "name": "stdout",
          "text": [
            "Ipopt 3.13.2: \n",
            "\n",
            "******************************************************************************\n",
            "This program contains Ipopt, a library for large-scale nonlinear optimization.\n",
            " Ipopt is released as open source code under the Eclipse Public License (EPL).\n",
            "         For more information visit http://projects.coin-or.org/Ipopt\n",
            "\n",
            "This version of Ipopt was compiled from source code available at\n",
            "    https://github.com/IDAES/Ipopt as part of the Institute for the Design of\n",
            "    Advanced Energy Systems Process Systems Engineering Framework (IDAES PSE\n",
            "    Framework) Copyright (c) 2018-2019. See https://github.com/IDAES/idaes-pse.\n",
            "\n",
            "This version of Ipopt was compiled using HSL, a collection of Fortran codes\n",
            "    for large-scale scientific computation.  All technical papers, sales and\n",
            "    publicity material resulting from use of the HSL codes within IPOPT must\n",
            "    contain the following acknowledgement:\n",
            "        HSL, a collection of Fortran codes for large-scale scientific\n",
            "        computation. See http://www.hsl.rl.ac.uk.\n",
            "******************************************************************************\n",
            "\n",
            "This is Ipopt version 3.13.2, running with linear solver ma27.\n",
            "\n",
            "Number of nonzeros in equality constraint Jacobian...:        0\n",
            "Number of nonzeros in inequality constraint Jacobian.:       10\n",
            "Number of nonzeros in Lagrangian Hessian.............:        0\n",
            "\n",
            "Total number of variables............................:        3\n",
            "                     variables with only lower bounds:        3\n",
            "                variables with lower and upper bounds:        0\n",
            "                     variables with only upper bounds:        0\n",
            "Total number of equality constraints.................:        0\n",
            "Total number of inequality constraints...............:        4\n",
            "        inequality constraints with only lower bounds:        4\n",
            "   inequality constraints with lower and upper bounds:        0\n",
            "        inequality constraints with only upper bounds:        0\n",
            "\n",
            "iter    objective    inf_pr   inf_du lg(mu)  ||d||  lg(rg) alpha_du alpha_pr  ls\n",
            "   0  8.0000000e+00 6.00e+00 1.10e+00  -1.0 0.00e+00    -  0.00e+00 0.00e+00   0\n",
            "   1  8.1372757e+00 5.82e+00 1.22e+00  -1.0 3.11e+00    -  4.43e-02 2.55e-02h  1\n",
            "   2  2.1552900e+01 0.00e+00 2.62e+00  -1.0 7.34e+00    -  2.62e-01 1.00e+00h  1\n",
            "   3  2.1520619e+01 0.00e+00 2.43e-01  -1.0 4.55e-01    -  7.86e-01 1.00e+00f  1\n",
            "   4  2.0550419e+01 0.00e+00 1.54e-01  -1.7 6.34e+00    -  1.53e-01 1.00e+00f  1\n",
            "   5  1.8561031e+01 0.00e+00 1.66e-01  -1.7 1.08e+02    -  6.74e-02 1.36e-01f  1\n",
            "   6  1.8564385e+01 0.00e+00 5.92e-01  -1.7 1.90e-01    -  1.00e+00 1.25e-01f  4\n",
            "   7  1.8562580e+01 0.00e+00 2.00e-07  -1.7 1.46e-02    -  1.00e+00 1.00e+00f  1\n",
            "   8  1.8501217e+01 0.00e+00 1.89e-03  -3.8 8.66e-02    -  1.00e+00 9.53e-01f  1\n",
            "   9  1.8500451e+01 0.00e+00 1.50e-09  -3.8 2.92e-03    -  1.00e+00 1.00e+00f  1\n",
            "iter    objective    inf_pr   inf_du lg(mu)  ||d||  lg(rg) alpha_du alpha_pr  ls\n",
            "  10  1.8500005e+01 0.00e+00 1.84e-11  -5.7 5.92e-04    -  1.00e+00 1.00e+00f  1\n",
            "  11  1.8500000e+01 0.00e+00 2.53e-14  -8.6 7.15e-06    -  1.00e+00 1.00e+00f  1\n",
            "\n",
            "Number of Iterations....: 11\n",
            "\n",
            "                                   (scaled)                 (unscaled)\n",
            "Objective...............:   1.8499999814992773e+01    1.8499999814992773e+01\n",
            "Dual infeasibility......:   2.5313084961453569e-14    2.5313084961453569e-14\n",
            "Constraint violation....:   0.0000000000000000e+00    0.0000000000000000e+00\n",
            "Complementarity.........:   2.5312901787511635e-09    2.5312901787511635e-09\n",
            "Overall NLP error.......:   2.5312901787511635e-09    2.5312901787511635e-09\n",
            "\n",
            "\n",
            "Number of objective function evaluations             = 15\n",
            "Number of objective gradient evaluations             = 12\n",
            "Number of equality constraint evaluations            = 0\n",
            "Number of inequality constraint evaluations          = 15\n",
            "Number of equality constraint Jacobian evaluations   = 0\n",
            "Number of inequality constraint Jacobian evaluations = 12\n",
            "Number of Lagrangian Hessian evaluations             = 11\n",
            "Total CPU secs in IPOPT (w/o function evaluations)   =      0.002\n",
            "Total CPU secs in NLP function evaluations           =      0.000\n",
            "\n",
            "EXIT: Optimal Solution Found.\n",
            "\b\b\b\b\b\b\b\b\b\b\b\b\b\b"
          ]
        }
      ],
      "source": [
        "# Specify the solver\n",
        "solver = pyo.SolverFactory('ipopt')\n",
        "\n",
        "# Solve\n",
        "results = solver.solve(m, tee=True)"
      ]
    },
    {
      "cell_type": "markdown",
      "metadata": {
        "id": "ZcVuTwN_HiP_"
      },
      "source": [
        "<div class=\"admonition note\">\n",
        "<p class=\"title\"><b>Activity</b></p>\n",
        " Does your degree of freedom analysis match Ipopt?\n",
        "</div>\n",
        "\n",
        "\n",
        "```{dropdown} Solution\n",
        "Add Solution HERE\n",
        "```\n"
      ]
    },
    {
      "cell_type": "markdown",
      "metadata": {
        "id": "8EKWd1_8HiP_"
      },
      "source": [
        "### Analyze Results"
      ]
    },
    {
      "cell_type": "markdown",
      "metadata": {
        "id": "GpOIVs-_HiP_"
      },
      "source": [
        "Let's extract the solution.\n",
        "\n",
        "<div class=\"admonition note\">\n",
        "<p class=\"title\"><b>Activity</b></p>\n",
        " Write Python code to extract and print the solution.\n",
        "</div>"
      ]
    },
    {
      "cell_type": "code",
      "execution_count": 26,
      "metadata": {
        "id": "e3tHi07UHiP_",
        "outputId": "2e9e0c12-38bf-4fc5-9ea2-9d2993d5d7d9",
        "colab": {
          "base_uri": "https://localhost:8080/"
        }
      },
      "outputs": [
        {
          "output_type": "stream",
          "name": "stdout",
          "text": [
            "Units of takeaway eaten = 0.0\n",
            "Units of vegetables eaten = 2.5\n",
            "Units of bread eaten = 8.0\n"
          ]
        }
      ],
      "source": [
        "# Add your solution here\n",
        "for f in m.FOOD:\n",
        "    print(\"Units of\",f,\"eaten =\",round(m.food_eaten[f](),2))"
      ]
    },
    {
      "cell_type": "markdown",
      "metadata": {
        "id": "FAwIMhiXHiP_"
      },
      "source": [
        "```{dropdown} Click here to see the activity solution.\n",
        "\n",
        "```python\n",
        "for f in m.FOOD:\n",
        "    print(\"Units of\",f,\"eaten =\",round(m.food_eaten[f](),2))\n",
        "\n",
        "```"
      ]
    },
    {
      "cell_type": "markdown",
      "metadata": {
        "id": "WRmQkdZTHiP_"
      },
      "source": [
        "Next, let us extract the KKT multipliers."
      ]
    },
    {
      "cell_type": "code",
      "execution_count": 27,
      "metadata": {
        "id": "MUfzcMRyHiP_",
        "outputId": "da1ea320-c1c2-4386-ab6b-462178fa18cd",
        "colab": {
          "base_uri": "https://localhost:8080/"
        }
      },
      "outputs": [
        {
          "output_type": "stream",
          "name": "stdout",
          "text": [
            "Ipopt 3.13.2: \n",
            "\n",
            "******************************************************************************\n",
            "This program contains Ipopt, a library for large-scale nonlinear optimization.\n",
            " Ipopt is released as open source code under the Eclipse Public License (EPL).\n",
            "         For more information visit http://projects.coin-or.org/Ipopt\n",
            "\n",
            "This version of Ipopt was compiled from source code available at\n",
            "    https://github.com/IDAES/Ipopt as part of the Institute for the Design of\n",
            "    Advanced Energy Systems Process Systems Engineering Framework (IDAES PSE\n",
            "    Framework) Copyright (c) 2018-2019. See https://github.com/IDAES/idaes-pse.\n",
            "\n",
            "This version of Ipopt was compiled using HSL, a collection of Fortran codes\n",
            "    for large-scale scientific computation.  All technical papers, sales and\n",
            "    publicity material resulting from use of the HSL codes within IPOPT must\n",
            "    contain the following acknowledgement:\n",
            "        HSL, a collection of Fortran codes for large-scale scientific\n",
            "        computation. See http://www.hsl.rl.ac.uk.\n",
            "******************************************************************************\n",
            "\n",
            "This is Ipopt version 3.13.2, running with linear solver ma27.\n",
            "\n",
            "Number of nonzeros in equality constraint Jacobian...:        0\n",
            "Number of nonzeros in inequality constraint Jacobian.:       10\n",
            "Number of nonzeros in Lagrangian Hessian.............:        0\n",
            "\n",
            "Total number of variables............................:        3\n",
            "                     variables with only lower bounds:        3\n",
            "                variables with lower and upper bounds:        0\n",
            "                     variables with only upper bounds:        0\n",
            "Total number of equality constraints.................:        0\n",
            "Total number of inequality constraints...............:        4\n",
            "        inequality constraints with only lower bounds:        4\n",
            "   inequality constraints with lower and upper bounds:        0\n",
            "        inequality constraints with only upper bounds:        0\n",
            "\n",
            "iter    objective    inf_pr   inf_du lg(mu)  ||d||  lg(rg) alpha_du alpha_pr  ls\n",
            "   0  1.8550000e+01 0.00e+00 1.10e+00  -1.0 0.00e+00    -  0.00e+00 0.00e+00   0\n",
            "   1  1.8661472e+01 0.00e+00 1.89e-01  -1.0 3.89e-01    -  8.40e-01 1.00e+00f  1\n",
            "   2  1.8792836e+01 0.00e+00 1.00e-06  -1.0 1.65e-01    -  1.00e+00 1.00e+00f  1\n",
            "   3  1.8512173e+01 0.00e+00 6.49e-03  -2.5 3.88e-01    -  9.94e-01 9.05e-01f  1\n",
            "   4  1.8508676e+01 0.00e+00 2.83e-08  -2.5 1.17e-02    -  1.00e+00 1.00e+00f  1\n",
            "   5  1.8500403e+01 0.00e+00 1.50e-09  -3.8 1.15e-02    -  1.00e+00 1.00e+00f  1\n",
            "   6  1.8500005e+01 0.00e+00 1.84e-11  -5.7 5.23e-04    -  1.00e+00 1.00e+00f  1\n",
            "   7  1.8500000e+01 0.00e+00 2.51e-14  -8.6 7.12e-06    -  1.00e+00 1.00e+00f  1\n",
            "\n",
            "Number of Iterations....: 7\n",
            "\n",
            "                                   (scaled)                 (unscaled)\n",
            "Objective...............:   1.8499999814992655e+01    1.8499999814992655e+01\n",
            "Dual infeasibility......:   2.5091040356528538e-14    2.5091040356528538e-14\n",
            "Constraint violation....:   0.0000000000000000e+00    0.0000000000000000e+00\n",
            "Complementarity.........:   2.5313984642083289e-09    2.5313984642083289e-09\n",
            "Overall NLP error.......:   2.5313984642083289e-09    2.5313984642083289e-09\n",
            "\n",
            "\n",
            "Number of objective function evaluations             = 8\n",
            "Number of objective gradient evaluations             = 8\n",
            "Number of equality constraint evaluations            = 0\n",
            "Number of inequality constraint evaluations          = 8\n",
            "Number of equality constraint Jacobian evaluations   = 0\n",
            "Number of inequality constraint Jacobian evaluations = 8\n",
            "Number of Lagrangian Hessian evaluations             = 7\n",
            "Total CPU secs in IPOPT (w/o function evaluations)   =      0.003\n",
            "Total CPU secs in NLP function evaluations           =      0.000\n",
            "\n",
            "EXIT: Optimal Solution Found.\n",
            "\b\b\b\b\b\b\b\b\b\b\b\b\b\b"
          ]
        }
      ],
      "source": [
        "### Declare all suffixes\n",
        "# https://pyomo.readthedocs.io/en/stable/pyomo_modeling_components/Suffixes.html#exporting-suffix-data\n",
        "\n",
        "# Ipopt bound multipliers\n",
        "m.ipopt_zL_out = pyo.Suffix(direction=pyo.Suffix.IMPORT)\n",
        "m.ipopt_zU_out = pyo.Suffix(direction=pyo.Suffix.IMPORT)\n",
        "\n",
        "# Ipopt constraint multipliers\n",
        "m.dual = pyo.Suffix(direction=pyo.Suffix.IMPORT_EXPORT)\n",
        "\n",
        "# Resolve the model\n",
        "results = solver.solve(m, tee=True)\n"
      ]
    },
    {
      "cell_type": "code",
      "execution_count": null,
      "metadata": {
        "id": "IkOcHrkjHiP_",
        "outputId": "2ea61eb4-5c84-4a43-a559-29e971b0823e"
      },
      "outputs": [
        {
          "name": "stdout",
          "output_type": "stream",
          "text": [
            "ipopt_zL_out : Direction=IMPORT, Datatype=FLOAT\n",
            "    Key                    : Value\n",
            "         food_eaten[bread] :   8.35310647704211e-10\n",
            "      food_eaten[takeaway] : 2.5068018506518723e-09\n",
            "    food_eaten[vegetables] : 1.6730627698360893e-09\n"
          ]
        }
      ],
      "source": [
        "#Inspect dual variables for lower bound\n",
        "m.ipopt_zL_out.display()"
      ]
    },
    {
      "cell_type": "code",
      "execution_count": 28,
      "metadata": {
        "id": "05u1VocEHiP_",
        "outputId": "7d02e8e0-6004-497d-d2be-9a3082029beb",
        "colab": {
          "base_uri": "https://localhost:8080/"
        }
      },
      "outputs": [
        {
          "output_type": "stream",
          "name": "stdout",
          "text": [
            "ipopt_zU_out : Direction=IMPORT, Datatype=FLOAT\n",
            "    Key : Value\n"
          ]
        }
      ],
      "source": [
        "#Inspect dual variables for upper bound\n",
        "m.ipopt_zU_out.display()"
      ]
    },
    {
      "cell_type": "code",
      "execution_count": 29,
      "metadata": {
        "id": "6eroz5-nHiQA",
        "outputId": "9c0110f3-cb97-42c6-c9fb-452eab167a42",
        "colab": {
          "base_uri": "https://localhost:8080/"
        }
      },
      "outputs": [
        {
          "output_type": "stream",
          "name": "stdout",
          "text": [
            "dual : Direction=IMPORT_EXPORT, Datatype=FLOAT\n",
            "    Key         : Value\n",
            "    diet_min[C] : 1.1385845178627563e-10\n",
            "    diet_min[F] :     1.9999999967000746\n",
            "    diet_min[P] :  5.062772006707883e-09\n",
            "    diet_min[V] :    0.24999999842670498\n"
          ]
        }
      ],
      "source": [
        "# Inspect duals\n",
        "m.dual.display()"
      ]
    },
    {
      "cell_type": "markdown",
      "metadata": {
        "id": "dQeY9XyfHiQA"
      },
      "source": [
        "## Take Away Messages\n",
        "* Linear programs are convex. We will learn this means all local optima are global optima.\n",
        "* There are specialize solves for linear programs, quadratic programs, and convex programs. In this class, we will focus on more general algorithms for (non)convex nonlinear programs including the algorithms used by the `ipopt` solver."
      ]
    }
  ],
  "metadata": {
    "kernelspec": {
      "display_name": "summer2024",
      "language": "python",
      "name": "python3"
    },
    "language_info": {
      "codemirror_mode": {
        "name": "ipython",
        "version": 3
      },
      "file_extension": ".py",
      "mimetype": "text/x-python",
      "name": "python",
      "nbconvert_exporter": "python",
      "pygments_lexer": "ipython3",
      "version": "3.10.14"
    },
    "colab": {
      "provenance": []
    }
  },
  "nbformat": 4,
  "nbformat_minor": 0
}