{
 "cells": [
  {
   "cell_type": "markdown",
   "metadata": {},
   "source": [
    "# Continuous Optimization"
   ]
  },
  {
   "cell_type": "code",
   "execution_count": 1,
   "metadata": {},
   "outputs": [],
   "source": [
    "# This code cell installs packages on Colab\n",
    "\n",
    "import sys\n",
    "if \"google.colab\" in sys.modules:\n",
    "    !wget \"https://raw.githubusercontent.com/ndcbe/optimization/main/notebooks/helper.py\"\n",
    "    import helper\n",
    "    helper.easy_install()\n",
    "else:\n",
    "    sys.path.insert(0, '../')\n",
    "    import helper\n",
    "helper.set_plotting_style()"
   ]
  },
  {
   "cell_type": "code",
   "execution_count": 12,
   "metadata": {},
   "outputs": [],
   "source": [
    "import pandas as pd\n",
    "import pyomo.environ as pyo\n",
    "import idaes"
   ]
  },
  {
   "cell_type": "markdown",
   "metadata": {},
   "source": [
    "## Linear Programs: Student Diet Example"
   ]
  },
  {
   "cell_type": "markdown",
   "metadata": {},
   "source": [
    "Reference: https://docs.mosek.com/modeling-cookbook/linear.html"
   ]
  },
  {
   "cell_type": "markdown",
   "metadata": {},
   "source": [
    "You want to save money eating while remaining healthy. A healthy diet requires at least P=6 units of protein, C=15 units of carbohydrates, F=5 units of fats and V=7 units of vitamins. Due to compounding factors (blizzard during Lent), our campus only has these options:"
   ]
  },
  {
   "cell_type": "code",
   "execution_count": 3,
   "metadata": {},
   "outputs": [
    {
     "data": {
      "text/html": [
       "<div>\n",
       "<style scoped>\n",
       "    .dataframe tbody tr th:only-of-type {\n",
       "        vertical-align: middle;\n",
       "    }\n",
       "\n",
       "    .dataframe tbody tr th {\n",
       "        vertical-align: top;\n",
       "    }\n",
       "\n",
       "    .dataframe thead th {\n",
       "        text-align: right;\n",
       "    }\n",
       "</style>\n",
       "<table border=\"1\" class=\"dataframe\">\n",
       "  <thead>\n",
       "    <tr style=\"text-align: right;\">\n",
       "      <th></th>\n",
       "      <th>P</th>\n",
       "      <th>C</th>\n",
       "      <th>F</th>\n",
       "      <th>V</th>\n",
       "      <th>price</th>\n",
       "    </tr>\n",
       "  </thead>\n",
       "  <tbody>\n",
       "    <tr>\n",
       "      <th>takeaway</th>\n",
       "      <td>3.0</td>\n",
       "      <td>3</td>\n",
       "      <td>2</td>\n",
       "      <td>1</td>\n",
       "      <td>5</td>\n",
       "    </tr>\n",
       "    <tr>\n",
       "      <th>vegetables</th>\n",
       "      <td>1.0</td>\n",
       "      <td>2</td>\n",
       "      <td>0</td>\n",
       "      <td>4</td>\n",
       "      <td>1</td>\n",
       "    </tr>\n",
       "    <tr>\n",
       "      <th>bread</th>\n",
       "      <td>0.5</td>\n",
       "      <td>4</td>\n",
       "      <td>1</td>\n",
       "      <td>0</td>\n",
       "      <td>2</td>\n",
       "    </tr>\n",
       "  </tbody>\n",
       "</table>\n",
       "</div>"
      ],
      "text/plain": [
       "              P  C  F  V  price\n",
       "takeaway    3.0  3  2  1      5\n",
       "vegetables  1.0  2  0  4      1\n",
       "bread       0.5  4  1  0      2"
      ]
     },
     "execution_count": 3,
     "metadata": {},
     "output_type": "execute_result"
    }
   ],
   "source": [
    "# Load data from file, use the first column (0, recall Python starts counting at 0) as the index\n",
    "food_options = pd.read_csv('../data/student_diet.csv',index_col=0)\n",
    "\n",
    "# Print up the the first 10 rows of data\n",
    "food_options.head(10)"
   ]
  },
  {
   "cell_type": "markdown",
   "metadata": {},
   "source": [
    "Let's build a Python dictionary to store the nutrient requirements. (I strongly recommend not touching Python until we write the model on paper. I am including this here to avoid scrolling between the problem description and this cell.)"
   ]
  },
  {
   "cell_type": "code",
   "execution_count": 4,
   "metadata": {},
   "outputs": [],
   "source": [
    "# Uncomment and fill in with all of the data\n",
    "# nutrient_requirements = {'P':6, 'C':15 }\n",
    "\n",
    "### BEGIN SOLUTION\n",
    "nutrient_requirements = {'P':6, 'C':15, 'F':5, 'V':7}\n",
    "### END SOLUTION"
   ]
  },
  {
   "cell_type": "markdown",
   "metadata": {},
   "source": [
    "### Propose an Optimization Model"
   ]
  },
  {
   "cell_type": "markdown",
   "metadata": {},
   "source": [
    "**Sets**"
   ]
  },
  {
   "cell_type": "markdown",
   "metadata": {},
   "source": [
    "**Parameters**"
   ]
  },
  {
   "cell_type": "markdown",
   "metadata": {},
   "source": [
    "**Variables**"
   ]
  },
  {
   "cell_type": "markdown",
   "metadata": {},
   "source": [
    "**Constraints**"
   ]
  },
  {
   "cell_type": "markdown",
   "metadata": {},
   "source": [
    "**Degree of Freedom Analysis**\n",
    "\n",
    "We will later learn more about how to factor inequality constraints into degree of freedom analysis. For now, please count the number of equality and inequality constraints separately."
   ]
  },
  {
   "cell_type": "markdown",
   "metadata": {},
   "source": [
    "### Solve in Pyomo"
   ]
  },
  {
   "cell_type": "markdown",
   "metadata": {},
   "source": [
    "With our optimization model written on paper, we can proceed to solve in Pyomo. Before we start, let's review a few pandas tricks."
   ]
  },
  {
   "cell_type": "code",
   "execution_count": 5,
   "metadata": {},
   "outputs": [
    {
     "data": {
      "text/plain": [
       "['P', 'C', 'F', 'V', 'price']"
      ]
     },
     "execution_count": 5,
     "metadata": {},
     "output_type": "execute_result"
    }
   ],
   "source": [
    "# Extract the column names, convert to a list\n",
    "food_options.columns.to_list()"
   ]
  },
  {
   "cell_type": "code",
   "execution_count": 6,
   "metadata": {},
   "outputs": [
    {
     "data": {
      "text/plain": [
       "['P', 'C', 'F', 'V']"
      ]
     },
     "execution_count": 6,
     "metadata": {},
     "output_type": "execute_result"
    }
   ],
   "source": [
    "# Same as above, but drop the last entry\n",
    "nutrients = food_options.columns.to_list()[0:4]\n",
    "nutrients"
   ]
  },
  {
   "cell_type": "code",
   "execution_count": 7,
   "metadata": {},
   "outputs": [
    {
     "data": {
      "text/plain": [
       "['takeaway', 'vegetables', 'bread']"
      ]
     },
     "execution_count": 7,
     "metadata": {},
     "output_type": "execute_result"
    }
   ],
   "source": [
    "# Extract the index names, convert to a list\n",
    "foods = food_options.index.to_list()\n",
    "foods"
   ]
  },
  {
   "cell_type": "code",
   "execution_count": 8,
   "metadata": {},
   "outputs": [
    {
     "data": {
      "text/plain": [
       "{('takeaway', 'P'): 3.0,\n",
       " ('takeaway', 'C'): 3.0,\n",
       " ('takeaway', 'F'): 2.0,\n",
       " ('takeaway', 'V'): 1.0,\n",
       " ('vegetables', 'P'): 1.0,\n",
       " ('vegetables', 'C'): 2.0,\n",
       " ('vegetables', 'F'): 0.0,\n",
       " ('vegetables', 'V'): 4.0,\n",
       " ('bread', 'P'): 0.5,\n",
       " ('bread', 'C'): 4.0,\n",
       " ('bread', 'F'): 1.0,\n",
       " ('bread', 'V'): 0.0}"
      ]
     },
     "execution_count": 8,
     "metadata": {},
     "output_type": "execute_result"
    }
   ],
   "source": [
    "# Create a dictionary with keys such as ('takeaway', 'P')\n",
    "# Do not include 'price'\n",
    "food_info = food_options[nutrients].stack().to_dict()\n",
    "food_info"
   ]
  },
  {
   "cell_type": "code",
   "execution_count": 9,
   "metadata": {},
   "outputs": [
    {
     "data": {
      "text/plain": [
       "{'takeaway': 5, 'vegetables': 1, 'bread': 2}"
      ]
     },
     "execution_count": 9,
     "metadata": {},
     "output_type": "execute_result"
    }
   ],
   "source": [
    "# Create dictionary of only prices\n",
    "price = food_options['price'].to_dict()\n",
    "price"
   ]
  },
  {
   "cell_type": "markdown",
   "metadata": {},
   "source": [
    "Now let's build our Pyomo model!"
   ]
  },
  {
   "cell_type": "code",
   "execution_count": 10,
   "metadata": {},
   "outputs": [
    {
     "name": "stdout",
     "output_type": "stream",
     "text": [
      "3 Set Declarations\n",
      "    FOOD : Size=1, Index=None, Ordered=Insertion\n",
      "        Key  : Dimen : Domain : Size : Members\n",
      "        None :     1 :    Any :    3 : {'takeaway', 'vegetables', 'bread'}\n",
      "    NUTRIENTS : Size=1, Index=None, Ordered=Insertion\n",
      "        Key  : Dimen : Domain : Size : Members\n",
      "        None :     1 :    Any :    4 : {'P', 'C', 'F', 'V'}\n",
      "    food_info_index : Size=1, Index=None, Ordered=True\n",
      "        Key  : Dimen : Domain         : Size : Members\n",
      "        None :     2 : FOOD*NUTRIENTS :   12 : {('takeaway', 'P'), ('takeaway', 'C'), ('takeaway', 'F'), ('takeaway', 'V'), ('vegetables', 'P'), ('vegetables', 'C'), ('vegetables', 'F'), ('vegetables', 'V'), ('bread', 'P'), ('bread', 'C'), ('bread', 'F'), ('bread', 'V')}\n",
      "\n",
      "3 Param Declarations\n",
      "    food_info : Size=12, Index=food_info_index, Domain=Any, Default=None, Mutable=False\n",
      "        Key                 : Value\n",
      "             ('bread', 'C') :   4.0\n",
      "             ('bread', 'F') :   1.0\n",
      "             ('bread', 'P') :   0.5\n",
      "             ('bread', 'V') :   0.0\n",
      "          ('takeaway', 'C') :   3.0\n",
      "          ('takeaway', 'F') :   2.0\n",
      "          ('takeaway', 'P') :   3.0\n",
      "          ('takeaway', 'V') :   1.0\n",
      "        ('vegetables', 'C') :   2.0\n",
      "        ('vegetables', 'F') :   0.0\n",
      "        ('vegetables', 'P') :   1.0\n",
      "        ('vegetables', 'V') :   4.0\n",
      "    needs : Size=4, Index=NUTRIENTS, Domain=Any, Default=None, Mutable=False\n",
      "        Key : Value\n",
      "          C :    15\n",
      "          F :     5\n",
      "          P :     6\n",
      "          V :     7\n",
      "    price : Size=3, Index=FOOD, Domain=Any, Default=None, Mutable=False\n",
      "        Key        : Value\n",
      "             bread :     2\n",
      "          takeaway :     5\n",
      "        vegetables :     1\n",
      "\n",
      "1 Var Declarations\n",
      "    food_eaten : Size=3, Index=FOOD\n",
      "        Key        : Lower : Value : Upper : Fixed : Stale : Domain\n",
      "             bread :     0 :   1.0 :  None : False : False : NonNegativeReals\n",
      "          takeaway :     0 :   1.0 :  None : False : False : NonNegativeReals\n",
      "        vegetables :     0 :   1.0 :  None : False : False : NonNegativeReals\n",
      "\n",
      "1 Objective Declarations\n",
      "    cost : Size=1, Index=None, Active=True\n",
      "        Key  : Active : Sense    : Expression\n",
      "        None :   True : minimize : 5*food_eaten[takeaway] + food_eaten[vegetables] + 2*food_eaten[bread]\n",
      "\n",
      "1 Constraint Declarations\n",
      "    diet_min : Size=4, Index=NUTRIENTS, Active=True\n",
      "        Key : Lower : Body                                                                          : Upper : Active\n",
      "          C :  15.0 : 3.0*food_eaten[takeaway] + 2.0*food_eaten[vegetables] + 4.0*food_eaten[bread] :  +Inf :   True\n",
      "          F :   5.0 :     2.0*food_eaten[takeaway] + 0.0*food_eaten[vegetables] + food_eaten[bread] :  +Inf :   True\n",
      "          P :   6.0 :     3.0*food_eaten[takeaway] + food_eaten[vegetables] + 0.5*food_eaten[bread] :  +Inf :   True\n",
      "          V :   7.0 :     food_eaten[takeaway] + 4.0*food_eaten[vegetables] + 0.0*food_eaten[bread] :  +Inf :   True\n",
      "\n",
      "9 Declarations: FOOD NUTRIENTS needs food_info_index food_info price food_eaten diet_min cost\n"
     ]
    }
   ],
   "source": [
    "### BEGIN SOLUTION\n",
    "\n",
    "m = pyo.ConcreteModel()\n",
    "\n",
    "## Define sets\n",
    "m.FOOD = pyo.Set(initialize = foods)\n",
    "m.NUTRIENTS = pyo.Set(initialize = nutrients)\n",
    "\n",
    "## Define parameters\n",
    "m.needs = pyo.Param(m.NUTRIENTS, initialize=nutrient_requirements)\n",
    "m.food_info = pyo.Param(m.FOOD, m.NUTRIENTS, initialize=food_info)\n",
    "m.price = pyo.Param(m.FOOD, initialize=price)\n",
    "\n",
    "## Define variables\n",
    "m.food_eaten = pyo.Var(m.FOOD,initialize=1.0,domain=pyo.NonNegativeReals)\n",
    "\n",
    "## Define constraints\n",
    "def diet_min_rule(m, n):\n",
    "    return sum(m.food_info[f,n] * m.food_eaten[f] for f in m.FOOD) >= m.needs[n]\n",
    "\n",
    "m.diet_min = pyo.Constraint(m.NUTRIENTS, rule=diet_min_rule)\n",
    "\n",
    "## Define objective\n",
    "m.cost = pyo.Objective(expr=sum(m.food_eaten[f]*m.price[f] for f in m.FOOD), sense=pyo.minimize)\n",
    "\n",
    "# Print model\n",
    "m.pprint()\n",
    "\n",
    "### END SOLUTION"
   ]
  },
  {
   "cell_type": "markdown",
   "metadata": {},
   "source": [
    "```{dropdown} Click to see the solution to the activity\n",
    "\n",
    "```python\n",
    "m = pyo.ConcreteModel()\n",
    "\n",
    "## Define sets\n",
    "m.FOOD = pyo.Set(initialize = foods)\n",
    "m.NUTRIENTS = pyo.Set(initialize = nutrients)\n",
    "\n",
    "## Define parameters\n",
    "m.needs = pyo.Param(m.NUTRIENTS, initialize=nutrient_requirements)\n",
    "m.food_info = pyo.Param(m.FOOD, m.NUTRIENTS, initialize=food_info)\n",
    "m.price = pyo.Param(m.FOOD, initialize=price)\n",
    "\n",
    "## Define variables\n",
    "m.food_eaten = pyo.Var(m.FOOD,initialize=1.0,domain=pyo.NonNegativeReals)\n",
    "\n",
    "## Define constraints\n",
    "def diet_min_rule(m, n):\n",
    "    return sum(m.food_info[f,n] * m.food_eaten[f] for f in m.FOOD) >= m.needs[n]\n",
    "\n",
    "m.diet_min = pyo.Constraint(m.NUTRIENTS, rule=diet_min_rule)\n",
    "\n",
    "## Define objective\n",
    "m.cost = pyo.Objective(expr=sum(m.food_eaten[f]*m.price[f] for f in m.FOOD), sense=pyo.minimize)\n",
    "\n",
    "# Print model\n",
    "m.pprint()"
   ]
  },
  {
   "cell_type": "markdown",
   "metadata": {},
   "source": [
    "<div style=\"background-color: rgba(0,0,255,0.05) ; padding: 10px; border: 1px solid darkblue;\"> \n",
    "<b>Activity</b>: Check the Pyomo model. Specifically, are the input (parameter) data correct? Do the equations match our model written on paper?\n",
    "</div>"
   ]
  },
  {
   "cell_type": "code",
   "execution_count": 13,
   "metadata": {},
   "outputs": [
    {
     "name": "stdout",
     "output_type": "stream",
     "text": [
      "WARNING: Could not locate the 'ipopt' executable, which is required for solver\n",
      "ipopt\n"
     ]
    },
    {
     "ename": "ApplicationError",
     "evalue": "No executable found for solver 'ipopt'",
     "output_type": "error",
     "traceback": [
      "\u001b[1;31m---------------------------------------------------------------------------\u001b[0m",
      "\u001b[1;31mApplicationError\u001b[0m                          Traceback (most recent call last)",
      "Cell \u001b[1;32mIn[13], line 7\u001b[0m\n\u001b[0;32m      4\u001b[0m solver \u001b[38;5;241m=\u001b[39m pyo\u001b[38;5;241m.\u001b[39mSolverFactory(\u001b[38;5;124m'\u001b[39m\u001b[38;5;124mipopt\u001b[39m\u001b[38;5;124m'\u001b[39m)\n\u001b[0;32m      6\u001b[0m \u001b[38;5;66;03m# Solve\u001b[39;00m\n\u001b[1;32m----> 7\u001b[0m results \u001b[38;5;241m=\u001b[39m \u001b[43msolver\u001b[49m\u001b[38;5;241;43m.\u001b[39;49m\u001b[43msolve\u001b[49m\u001b[43m(\u001b[49m\u001b[43mm\u001b[49m\u001b[43m,\u001b[49m\u001b[43m \u001b[49m\u001b[43mtee\u001b[49m\u001b[38;5;241;43m=\u001b[39;49m\u001b[38;5;28;43;01mTrue\u001b[39;49;00m\u001b[43m)\u001b[49m\n",
      "File \u001b[1;32mc:\\Users\\Maddie1\\anaconda3\\lib\\site-packages\\pyomo\\opt\\base\\solvers.py:533\u001b[0m, in \u001b[0;36mOptSolver.solve\u001b[1;34m(self, *args, **kwds)\u001b[0m\n\u001b[0;32m    530\u001b[0m \u001b[38;5;28;01mdef\u001b[39;00m \u001b[38;5;21msolve\u001b[39m(\u001b[38;5;28mself\u001b[39m, \u001b[38;5;241m*\u001b[39margs, \u001b[38;5;241m*\u001b[39m\u001b[38;5;241m*\u001b[39mkwds):\n\u001b[0;32m    531\u001b[0m     \u001b[38;5;124;03m\"\"\"Solve the problem\"\"\"\u001b[39;00m\n\u001b[1;32m--> 533\u001b[0m     \u001b[38;5;28;43mself\u001b[39;49m\u001b[38;5;241;43m.\u001b[39;49m\u001b[43mavailable\u001b[49m\u001b[43m(\u001b[49m\u001b[43mexception_flag\u001b[49m\u001b[38;5;241;43m=\u001b[39;49m\u001b[38;5;28;43;01mTrue\u001b[39;49;00m\u001b[43m)\u001b[49m\n\u001b[0;32m    534\u001b[0m     \u001b[38;5;66;03m#\u001b[39;00m\n\u001b[0;32m    535\u001b[0m     \u001b[38;5;66;03m# If the inputs are models, then validate that they have been\u001b[39;00m\n\u001b[0;32m    536\u001b[0m     \u001b[38;5;66;03m# constructed! Collect suffix names to try and import from solution.\u001b[39;00m\n\u001b[0;32m    537\u001b[0m     \u001b[38;5;66;03m#\u001b[39;00m\n\u001b[0;32m    538\u001b[0m     \u001b[38;5;28;01mfrom\u001b[39;00m \u001b[38;5;21;01mpyomo\u001b[39;00m\u001b[38;5;21;01m.\u001b[39;00m\u001b[38;5;21;01mcore\u001b[39;00m\u001b[38;5;21;01m.\u001b[39;00m\u001b[38;5;21;01mbase\u001b[39;00m\u001b[38;5;21;01m.\u001b[39;00m\u001b[38;5;21;01mblock\u001b[39;00m \u001b[38;5;28;01mimport\u001b[39;00m _BlockData\n",
      "File \u001b[1;32mc:\\Users\\Maddie1\\anaconda3\\lib\\site-packages\\pyomo\\opt\\solver\\shellcmd.py:141\u001b[0m, in \u001b[0;36mSystemCallSolver.available\u001b[1;34m(self, exception_flag)\u001b[0m\n\u001b[0;32m    139\u001b[0m     \u001b[38;5;28;01mif\u001b[39;00m exception_flag:\n\u001b[0;32m    140\u001b[0m         msg \u001b[38;5;241m=\u001b[39m \u001b[38;5;124m\"\u001b[39m\u001b[38;5;124mNo executable found for solver \u001b[39m\u001b[38;5;124m'\u001b[39m\u001b[38;5;132;01m%s\u001b[39;00m\u001b[38;5;124m'\u001b[39m\u001b[38;5;124m\"\u001b[39m\n\u001b[1;32m--> 141\u001b[0m         \u001b[38;5;28;01mraise\u001b[39;00m ApplicationError(msg \u001b[38;5;241m%\u001b[39m \u001b[38;5;28mself\u001b[39m\u001b[38;5;241m.\u001b[39mname)\n\u001b[0;32m    142\u001b[0m     \u001b[38;5;28;01mreturn\u001b[39;00m \u001b[38;5;28;01mFalse\u001b[39;00m\n\u001b[0;32m    143\u001b[0m \u001b[38;5;28;01mreturn\u001b[39;00m \u001b[38;5;28;01mTrue\u001b[39;00m\n",
      "\u001b[1;31mApplicationError\u001b[0m: No executable found for solver 'ipopt'"
     ]
    }
   ],
   "source": [
    "# Specify the solver\n",
    "\n",
    "\n",
    "solver = pyo.SolverFactory('ipopt')\n",
    "\n",
    "# Solve\n",
    "results = solver.solve(m, tee=True)"
   ]
  },
  {
   "cell_type": "markdown",
   "metadata": {},
   "source": [
    "<div style=\"background-color: rgba(0,0,255,0.05) ; padding: 10px; border: 1px solid darkblue;\"> \n",
    "<b>Activity</b>: Does your degree of freedom analysis match Ipopt?\n",
    "</div>\n",
    "\n",
    "\n",
    "```{dropdown} Solution\n",
    "Add Solution HERE\n",
    "```\n"
   ]
  },
  {
   "cell_type": "markdown",
   "metadata": {},
   "source": [
    "### Analyze Results"
   ]
  },
  {
   "cell_type": "markdown",
   "metadata": {},
   "source": [
    "Let's extract the solution."
   ]
  },
  {
   "cell_type": "code",
   "execution_count": 12,
   "metadata": {},
   "outputs": [
    {
     "name": "stdout",
     "output_type": "stream",
     "text": [
      "Units of takeaway eaten = 0.9999999904584188\n",
      "Units of vegetables eaten = 1.4999999892477955\n",
      "Units of bread eaten = 2.9999999704842386\n"
     ]
    }
   ],
   "source": [
    "### BEGIN SOLUTION\n",
    "for f in m.FOOD:\n",
    "    print(\"Units of\",f,\"eaten =\",m.food_eaten[f]())\n",
    "### END SOLUTION"
   ]
  },
  {
   "cell_type": "markdown",
   "metadata": {},
   "source": [
    "Extract the KKT Multipliers"
   ]
  },
  {
   "cell_type": "code",
   "execution_count": null,
   "metadata": {},
   "outputs": [],
   "source": [
    "#Inspect dual variables for lower bound\n",
    "m.ipopt_zL_out.display()"
   ]
  },
  {
   "cell_type": "code",
   "execution_count": null,
   "metadata": {},
   "outputs": [],
   "source": [
    "#Inspect dual variables for upper bound\n",
    "m.ipopt_zU_out.display()"
   ]
  },
  {
   "cell_type": "markdown",
   "metadata": {},
   "source": [
    "TODO: After we discuss optimization theory, add discussion of shadow prices and multipliers here."
   ]
  },
  {
   "cell_type": "markdown",
   "metadata": {},
   "source": [
    "## Take Away Messages - Update for just LP\n",
    "* Linear programs are convex. We will learn this means all local optima are global optima.\n",
    "* Nonlinear programs may be nonconvex. For nonconvex problems, there often existings many local optima that are not also global optima.\n",
    "* We will learn how to mathematically define convexity and analyze this property.\n",
    "* Initialization is really important in optimization problems with nonlinear objectives or constraints!\n",
    "* There are specialize solves for linear programs, quadratic programs, and convex programs. In this class, we will focus on more general algorithms for (non)convex nonlinear programs including the algorithms used by the `ipopt` solver."
   ]
  },
  {
   "cell_type": "code",
   "execution_count": null,
   "metadata": {},
   "outputs": [],
   "source": []
  }
 ],
 "metadata": {
  "kernelspec": {
   "display_name": "Python 3 (ipykernel)",
   "language": "python",
   "name": "python3"
  },
  "language_info": {
   "codemirror_mode": {
    "name": "ipython",
    "version": 3
   },
   "file_extension": ".py",
   "mimetype": "text/x-python",
   "name": "python",
   "nbconvert_exporter": "python",
   "pygments_lexer": "ipython3",
   "version": "3.9.12"
  }
 },
 "nbformat": 4,
 "nbformat_minor": 2
}
